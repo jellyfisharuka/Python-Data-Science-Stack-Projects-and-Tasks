{
 "cells": [
  {
   "cell_type": "markdown",
   "id": "fa4baa90",
   "metadata": {},
   "source": [
    "<h1 align='center'>  <font size = '6' color='red'> Lecture 12 Guide for Python: Hypothesis Test <font> </h1>\n",
    "\n",
    "\n"
   ]
  },
  {
   "cell_type": "code",
   "execution_count": 1,
   "id": "8094d449",
   "metadata": {},
   "outputs": [],
   "source": [
    "#import the rquired lib\n",
    "import pandas as pd\n",
    "import numpy as np\n",
    "from scipy import stats\n",
    "import seaborn as sns\n",
    "import matplotlib.pyplot as plt"
   ]
  },
  {
   "cell_type": "markdown",
   "id": "f56a096c",
   "metadata": {},
   "source": [
    "## Z-test"
   ]
  },
  {
   "cell_type": "markdown",
   "id": "43869a55",
   "metadata": {},
   "source": [
    "A passport office claims that the passport applications are processed within 30 days of submitting the application form and all the necessary documents. Now we have a Csv file and it contains the processing time of 40 passport applications, the population standard deviation of the processing time is given by 12.5 days. As a part of our activity, we have to conduct a hypothesis test at the significance level of 0.05 (p-value) to verify the claim made by the passport office.\n",
    "\n",
    "-\tNull Hypothesis: Passport office processes application within 30 days (mu = 30)\n",
    "\n",
    "-\tAlternate Hypothesis: Passport office processes application doesnot equal to 30 days (mu =! 30)\n"
   ]
  },
  {
   "cell_type": "code",
   "execution_count": 2,
   "id": "ab09d449",
   "metadata": {},
   "outputs": [
    {
     "data": {
      "text/html": [
       "<div>\n",
       "<style scoped>\n",
       "    .dataframe tbody tr th:only-of-type {\n",
       "        vertical-align: middle;\n",
       "    }\n",
       "\n",
       "    .dataframe tbody tr th {\n",
       "        vertical-align: top;\n",
       "    }\n",
       "\n",
       "    .dataframe thead th {\n",
       "        text-align: right;\n",
       "    }\n",
       "</style>\n",
       "<table border=\"1\" class=\"dataframe\">\n",
       "  <thead>\n",
       "    <tr style=\"text-align: right;\">\n",
       "      <th></th>\n",
       "      <th>processing_time</th>\n",
       "    </tr>\n",
       "  </thead>\n",
       "  <tbody>\n",
       "    <tr>\n",
       "      <th>0</th>\n",
       "      <td>18</td>\n",
       "    </tr>\n",
       "    <tr>\n",
       "      <th>1</th>\n",
       "      <td>15</td>\n",
       "    </tr>\n",
       "    <tr>\n",
       "      <th>2</th>\n",
       "      <td>20</td>\n",
       "    </tr>\n",
       "    <tr>\n",
       "      <th>3</th>\n",
       "      <td>36</td>\n",
       "    </tr>\n",
       "    <tr>\n",
       "      <th>4</th>\n",
       "      <td>26</td>\n",
       "    </tr>\n",
       "  </tbody>\n",
       "</table>\n",
       "</div>"
      ],
      "text/plain": [
       "   processing_time\n",
       "0               18\n",
       "1               15\n",
       "2               20\n",
       "3               36\n",
       "4               26"
      ]
     },
     "execution_count": 2,
     "metadata": {},
     "output_type": "execute_result"
    }
   ],
   "source": [
    "#Read and show \"passport_data.csv\"\n",
    "df = pd.read_csv(\"passport_data.csv\")\n",
    "df.head()"
   ]
  },
  {
   "cell_type": "code",
   "execution_count": 3,
   "id": "a1cab411",
   "metadata": {},
   "outputs": [
    {
     "data": {
      "text/plain": [
       "40"
      ]
     },
     "execution_count": 3,
     "metadata": {},
     "output_type": "execute_result"
    }
   ],
   "source": [
    "#Calculate the mean\n",
    "x = df['processing_time'].mean() # sample mean\n",
    "#write down the variables\n",
    "pop_mean = 30\n",
    "pop_std = 12.5\n",
    "n = df.shape[0]\n",
    "n"
   ]
  },
  {
   "cell_type": "code",
   "execution_count": 4,
   "id": "39d262a6",
   "metadata": {},
   "outputs": [
    {
     "data": {
      "text/plain": [
       "-1.606437051365537"
      ]
     },
     "execution_count": 4,
     "metadata": {},
     "output_type": "execute_result"
    }
   ],
   "source": [
    "# Z-test statistic\n",
    "z_test_statistic = (x-pop_mean)/(pop_std/(np.sqrt(n)))\n",
    "z_test_statistic"
   ]
  },
  {
   "cell_type": "code",
   "execution_count": 6,
   "id": "a13f7162",
   "metadata": {},
   "outputs": [
    {
     "data": {
      "text/plain": [
       "0.05408895775130428"
      ]
     },
     "execution_count": 6,
     "metadata": {},
     "output_type": "execute_result"
    }
   ],
   "source": [
    "#To get the p-value\n",
    "'''Remmber that the z test value is in the negative of the normal distrbuiton, \n",
    "this means we need to get cdf NOT 1 -cdf'''\n",
    "stats.norm.cdf(z_test_statistic)"
   ]
  },
  {
   "cell_type": "markdown",
   "id": "7d598ec8",
   "metadata": {},
   "source": [
    "### It is obvious that  p-value (0.0541) > alpha/2 (0.025), Hence we fail to reject the null Hypothesis"
   ]
  },
  {
   "cell_type": "markdown",
   "id": "d00c1a81",
   "metadata": {},
   "source": [
    "## One sample t-test"
   ]
  },
  {
   "cell_type": "markdown",
   "id": "fab6cc81",
   "metadata": {},
   "source": [
    "A new movie production company in a certain country is interested in understanding the production cost. The industry believes that the production house will require around 500 k (the currency of the country) on average to produce a movie. It is assumed that a movie production cost follows the normal distribution. The production cost of 40 movies in thousand of this currency is given in a csv file. Now conduct an appropriate hypothesis test at alpha equal to 0.05 to check whether the belief about the average production cost is correct or not.  "
   ]
  },
  {
   "cell_type": "code",
   "execution_count": 7,
   "id": "6384a7e5",
   "metadata": {},
   "outputs": [
    {
     "data": {
      "text/html": [
       "<div>\n",
       "<style scoped>\n",
       "    .dataframe tbody tr th:only-of-type {\n",
       "        vertical-align: middle;\n",
       "    }\n",
       "\n",
       "    .dataframe tbody tr th {\n",
       "        vertical-align: top;\n",
       "    }\n",
       "\n",
       "    .dataframe thead th {\n",
       "        text-align: right;\n",
       "    }\n",
       "</style>\n",
       "<table border=\"1\" class=\"dataframe\">\n",
       "  <thead>\n",
       "    <tr style=\"text-align: right;\">\n",
       "      <th></th>\n",
       "      <th>movie_cost (K)</th>\n",
       "    </tr>\n",
       "  </thead>\n",
       "  <tbody>\n",
       "    <tr>\n",
       "      <th>0</th>\n",
       "      <td>602</td>\n",
       "    </tr>\n",
       "    <tr>\n",
       "      <th>1</th>\n",
       "      <td>628</td>\n",
       "    </tr>\n",
       "    <tr>\n",
       "      <th>2</th>\n",
       "      <td>329</td>\n",
       "    </tr>\n",
       "    <tr>\n",
       "      <th>3</th>\n",
       "      <td>365</td>\n",
       "    </tr>\n",
       "    <tr>\n",
       "      <th>4</th>\n",
       "      <td>561</td>\n",
       "    </tr>\n",
       "  </tbody>\n",
       "</table>\n",
       "</div>"
      ],
      "text/plain": [
       "   movie_cost (K)\n",
       "0             602\n",
       "1             628\n",
       "2             329\n",
       "3             365\n",
       "4             561"
      ]
     },
     "execution_count": 7,
     "metadata": {},
     "output_type": "execute_result"
    }
   ],
   "source": [
    "#Read and show \"'moviesCost.csv'\"\n",
    "df = pd.read_csv('moviesCost.csv')\n",
    "df.head()"
   ]
  },
  {
   "cell_type": "markdown",
   "id": "d86e2148",
   "metadata": {},
   "source": [
    "Define:\n",
    "\n",
    "-\tNull Hypothesis: The production house required 500 k to produce a movie (mu = 500k)\n",
    "\n",
    "-\tAlternate Hypothesis:  mu =! 500 k"
   ]
  },
  {
   "cell_type": "code",
   "execution_count": 8,
   "id": "7b324ce4",
   "metadata": {},
   "outputs": [
    {
     "data": {
      "text/plain": [
       "<Axes: ylabel='Density'>"
      ]
     },
     "execution_count": 8,
     "metadata": {},
     "output_type": "execute_result"
    },
    {
     "data": {
      "image/png": "[encoded data removed]",
      "text/plain": [
       "<Figure size 640x480 with 1 Axes>"
      ]
     },
     "metadata": {},
     "output_type": "display_data"
    }
   ],
   "source": [
    "# Check  the distrbuition of your samples\n",
    "sns.kdeplot(df)"
   ]
  },
  {
   "cell_type": "code",
   "execution_count": 12,
   "id": "aadb2bba",
   "metadata": {},
   "outputs": [
    {
     "data": {
      "text/plain": [
       "TtestResult(statistic=-2.2833225316760535, pvalue=0.027941798931104676, df=39)"
      ]
     },
     "execution_count": 12,
     "metadata": {},
     "output_type": "execute_result"
    }
   ],
   "source": [
    "#write down the pop mean\n",
    "pop_mean = 500\n",
    "#Calculate 1 sample t test\n",
    "stats.ttest_1samp(df['movie_cost (K)'],pop_mean)"
   ]
  },
  {
   "cell_type": "markdown",
   "id": "97ed997d",
   "metadata": {},
   "source": [
    "### From the above results,  p-value (0.0279) < alpha (0.05), Hence we Reject the null Hypothesis."
   ]
  }
 ],
 "metadata": {
  "kernelspec": {
   "display_name": "Python 3 (ipykernel)",
   "language": "python",
   "name": "python3"
  },
  "language_info": {
   "codemirror_mode": {
    "name": "ipython",
    "version": 3
   },
   "file_extension": ".py",
   "mimetype": "text/x-python",
   "name": "python",
   "nbconvert_exporter": "python",
   "pygments_lexer": "ipython3",
   "version": "3.11.5"
  }
 },
 "nbformat": 4,
 "nbformat_minor": 5
}
