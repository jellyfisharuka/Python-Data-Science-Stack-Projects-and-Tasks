{
 "cells": [
  {
   "cell_type": "markdown",
   "metadata": {},
   "source": [
    "<h1 align='center'>  <font size = '6' color='red'> Probability functions <font> </h1>\n"
   ]
  },
  {
   "cell_type": "code",
   "execution_count": 3,
   "metadata": {
    "colab": {
     "base_uri": "https://localhost:8080/",
     "height": 267
    },
    "id": "dQwqlA2huhuM",
    "outputId": "641e1d4a-5ac3-4a04-fd03-c63881a90fad"
   },
   "outputs": [],
   "source": [
    "\n",
    "from scipy.stats import binom\n",
    "import pandas as pd\n",
    "import numpy as np\n",
    "import seaborn as sns\n",
    "import matplotlib.pyplot as plt\n",
    "from math import comb\n",
    "from scipy import stats\n",
    "from scipy.stats import norm\n",
    "from scipy.stats import geom"
   ]
  },
  {
   "cell_type": "markdown",
   "metadata": {},
   "source": [
    "## Q1: Suppose the weights of a population of newborn babies follow a normal distribution with a mean of 3 kg and a standard deviation of 0.5 kg. "
   ]
  },
  {
   "cell_type": "markdown",
   "metadata": {},
   "source": [
    "### Q1.1: What is the probability that a randomly selected newborn baby weighs more than 3.5 kg?"
   ]
  },
  {
   "cell_type": "code",
   "execution_count": 16,
   "metadata": {},
   "outputs": [
    {
     "name": "stdout",
     "output_type": "stream",
     "text": [
      "1.0\n",
      "Prob is:  0.8413447460685429\n"
     ]
    }
   ],
   "source": [
    "#P(X>3.5)\n",
    "st=0.5\n",
    "x1=3\n",
    "x2=3.5\n",
    "Z=(3.5-3)/0.5\n",
    "print(\"Prob is: \", stats.norm.cdf(Z))"
   ]
  },
  {
   "cell_type": "markdown",
   "metadata": {},
   "source": [
    "### Q1.2: What is the probability that a randomly selected newborn baby weighs between 4 kg and 5kg?"
   ]
  },
  {
   "cell_type": "code",
   "execution_count": 19,
   "metadata": {},
   "outputs": [
    {
     "name": "stdout",
     "output_type": "stream",
     "text": [
      "0.02271846070634609\n"
     ]
    }
   ],
   "source": [
    "\n",
    "z1prob=stats.norm.cdf((4 - 3) / 0.5)\n",
    "z2prob=stats.norm.cdf((5 - 3) / 0.5)\n",
    "print(z2prob-z1prob)"
   ]
  },
  {
   "cell_type": "markdown",
   "metadata": {},
   "source": [
    "### Q1.3: What is the probability that a randomly selected newborn baby weighs less tha 2.5?"
   ]
  },
  {
   "cell_type": "code",
   "execution_count": 15,
   "metadata": {},
   "outputs": [
    {
     "name": "stdout",
     "output_type": "stream",
     "text": [
      "0.15865525393145707\n"
     ]
    }
   ],
   "source": [
    "# P(X<2.5)\n",
    "Z=(2.5-3)/0.5\n",
    "\n",
    "print(stats.norm.cdf(Z))"
   ]
  },
  {
   "cell_type": "markdown",
   "metadata": {},
   "source": [
    "## Q2: Suppose that you are interested in studying the waiting times between arrivals of customers at a service counter. This problem is modeled using the exponential distribution. Let's assume that the average waiting time between arrivals is 5 minutes. We want to calculate the probability that a customer arrives in the next 3 minutes.\n"
   ]
  },
  {
   "cell_type": "code",
   "execution_count": 10,
   "metadata": {},
   "outputs": [
    {
     "name": "stdout",
     "output_type": "stream",
     "text": [
      "0.45115422096330016\n"
     ]
    }
   ],
   "source": [
    "#Exponential Distribution\n",
    "lam=1/5   \n",
    "#f(x) = 1-e^-lamx\n",
    "x=3\n",
    "f=1-2.718**(-lam*3)\n",
    "print(f)"
   ]
  },
  {
   "cell_type": "markdown",
   "metadata": {},
   "source": [
    "## Q 3: A basketball player has a free throw success rate of 70%. We want to determine the probability of the player making at least 3 out of 5 free throws during a game "
   ]
  },
  {
   "cell_type": "code",
   "execution_count": 18,
   "metadata": {},
   "outputs": [
    {
     "name": "stdout",
     "output_type": "stream",
     "text": [
      "0.5282199999999999\n"
     ]
    }
   ],
   "source": [
    "\n",
    "#nCx * Px * (1 – P)^(n – x) binominal dist\n",
    "\n",
    "x=3\n",
    "p=0.7\n",
    "n=5\n",
    "b=1-binom.cdf(x, n, p)\n",
    "print(b)"
   ]
  },
  {
   "cell_type": "markdown",
   "metadata": {},
   "source": [
    "## Q4: A factory produces electronic components, and the probability of producing a defective component is 0.02. What is the probability that the first defective component is produced on or before the 10th trial?"
   ]
  },
  {
   "cell_type": "code",
   "execution_count": 8,
   "metadata": {},
   "outputs": [
    {
     "name": "stdout",
     "output_type": "stream",
     "text": [
      "0.1829271931124531\n"
     ]
    }
   ],
   "source": [
    "n=10\n",
    "p=0.02\n",
    "#((1-p)^(n-1))*p geom dist\n",
    "P = geom.cdf(n, p)\n",
    "\n",
    "print(P)"
   ]
  },
  {
   "cell_type": "markdown",
   "metadata": {},
   "source": [
    "## Q5: Suppose you have three bags of marbles, each containing 10 marbles. The first bag has 3 red and 7 blue marbles, the second bag has 4 red and 6 blue marbles, and the third bag has 5 red and 5 blue marbles. You randomly pick one bag and then randomly draw one marble from it. What is the probability that the marble is red?\n",
    "\n"
   ]
  },
  {
   "cell_type": "code",
   "execution_count": 9,
   "metadata": {},
   "outputs": [
    {
     "name": "stdout",
     "output_type": "stream",
     "text": [
      "0.4\n"
     ]
    }
   ],
   "source": [
    "\n",
    "ball1=3/10\n",
    "ball2=4/10\n",
    "ball3=5/10\n",
    "picked=1/3\n",
    "Prob=ball1*picked+ball2*picked+ball3*picked\n",
    "print(Prob)"
   ]
  },
  {
   "cell_type": "code",
   "execution_count": null,
   "metadata": {},
   "outputs": [],
   "source": []
  }
 ],
 "metadata": {
  "colab": {
   "collapsed_sections": [],
   "provenance": []
  },
  "kernelspec": {
   "display_name": "Python 3 (ipykernel)",
   "language": "python",
   "name": "python3"
  },
  "language_info": {
   "codemirror_mode": {
    "name": "ipython",
    "version": 3
   },
   "file_extension": ".py",
   "mimetype": "text/x-python",
   "name": "python",
   "nbconvert_exporter": "python",
   "pygments_lexer": "ipython3",
   "version": "3.11.4"
  }
 },
 "nbformat": 4,
 "nbformat_minor": 1
}
