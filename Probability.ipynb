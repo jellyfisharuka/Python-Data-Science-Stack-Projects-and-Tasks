{
 "cells": [
  {
   "cell_type": "markdown",
   "metadata": {},
   "source": [
    "<h1 align='center'>  <font size = '6' color='red'> Probability tasks <font> </h1>\n"
   ]
  },
  {
   "cell_type": "markdown",
   "metadata": {
    "id": "5cVvMZQzz9lF"
   },
   "source": [
    "# Load the Dataset and Answer the Questions:\n",
    "\n",
    "1.   What is the Probability that the Customer has no a Credit Card ?\n",
    "2.   What is the Probability that the Customer age is less than 20 ?\n",
    "3.   What is the Probability that the Customer has a high school education level ?\n",
    "4.   What is the Probability that the Customer is married and has a Credit Card ?\n",
    "5.   What is the Probability that the Customer is unemployed and is divorced ?\n",
    "6.   Given the Customer has no the credit card, find the probability that he/she is married \n",
    "7.   If a customer is unemployed, find the probability that he has a housing"
   ]
  },
  {
   "cell_type": "code",
   "execution_count": 16,
   "metadata": {
    "colab": {
     "base_uri": "https://localhost:8080/",
     "height": 206
    },
    "id": "D7sufJfL50Bf",
    "outputId": "302dd6a0-e2b0-4f95-8fd4-fd4912625076"
   },
   "outputs": [
    {
     "data": {
      "text/html": [
       "<div>\n",
       "<style scoped>\n",
       "    .dataframe tbody tr th:only-of-type {\n",
       "        vertical-align: middle;\n",
       "    }\n",
       "\n",
       "    .dataframe tbody tr th {\n",
       "        vertical-align: top;\n",
       "    }\n",
       "\n",
       "    .dataframe thead th {\n",
       "        text-align: right;\n",
       "    }\n",
       "</style>\n",
       "<table border=\"1\" class=\"dataframe\">\n",
       "  <thead>\n",
       "    <tr style=\"text-align: right;\">\n",
       "      <th></th>\n",
       "      <th>gender</th>\n",
       "      <th>age</th>\n",
       "      <th>job</th>\n",
       "      <th>marital</th>\n",
       "      <th>education</th>\n",
       "      <th>default</th>\n",
       "      <th>housing</th>\n",
       "      <th>loan</th>\n",
       "      <th>contact</th>\n",
       "      <th>CreditCard</th>\n",
       "    </tr>\n",
       "  </thead>\n",
       "  <tbody>\n",
       "    <tr>\n",
       "      <th>0</th>\n",
       "      <td>female</td>\n",
       "      <td>56</td>\n",
       "      <td>housemaid</td>\n",
       "      <td>married</td>\n",
       "      <td>basic.4y</td>\n",
       "      <td>no</td>\n",
       "      <td>no</td>\n",
       "      <td>no</td>\n",
       "      <td>telephone</td>\n",
       "      <td>no</td>\n",
       "    </tr>\n",
       "    <tr>\n",
       "      <th>1</th>\n",
       "      <td>male</td>\n",
       "      <td>57</td>\n",
       "      <td>services</td>\n",
       "      <td>married</td>\n",
       "      <td>high.school</td>\n",
       "      <td>yes</td>\n",
       "      <td>no</td>\n",
       "      <td>no</td>\n",
       "      <td>telephone</td>\n",
       "      <td>no</td>\n",
       "    </tr>\n",
       "    <tr>\n",
       "      <th>2</th>\n",
       "      <td>female</td>\n",
       "      <td>37</td>\n",
       "      <td>services</td>\n",
       "      <td>married</td>\n",
       "      <td>high.school</td>\n",
       "      <td>no</td>\n",
       "      <td>yes</td>\n",
       "      <td>no</td>\n",
       "      <td>telephone</td>\n",
       "      <td>no</td>\n",
       "    </tr>\n",
       "    <tr>\n",
       "      <th>3</th>\n",
       "      <td>female</td>\n",
       "      <td>40</td>\n",
       "      <td>admin.</td>\n",
       "      <td>married</td>\n",
       "      <td>basic.6y</td>\n",
       "      <td>no</td>\n",
       "      <td>no</td>\n",
       "      <td>no</td>\n",
       "      <td>telephone</td>\n",
       "      <td>no</td>\n",
       "    </tr>\n",
       "    <tr>\n",
       "      <th>4</th>\n",
       "      <td>female</td>\n",
       "      <td>56</td>\n",
       "      <td>services</td>\n",
       "      <td>married</td>\n",
       "      <td>high.school</td>\n",
       "      <td>no</td>\n",
       "      <td>no</td>\n",
       "      <td>yes</td>\n",
       "      <td>telephone</td>\n",
       "      <td>no</td>\n",
       "    </tr>\n",
       "  </tbody>\n",
       "</table>\n",
       "</div>"
      ],
      "text/plain": [
       "   gender  age        job  marital    education default housing loan  \\\n",
       "0  female   56  housemaid  married     basic.4y      no      no   no   \n",
       "1    male   57   services  married  high.school     yes      no   no   \n",
       "2  female   37   services  married  high.school      no     yes   no   \n",
       "3  female   40     admin.  married     basic.6y      no      no   no   \n",
       "4  female   56   services  married  high.school      no      no  yes   \n",
       "\n",
       "     contact CreditCard  \n",
       "0  telephone         no  \n",
       "1  telephone         no  \n",
       "2  telephone         no  \n",
       "3  telephone         no  \n",
       "4  telephone         no  "
      ]
     },
     "execution_count": 16,
     "metadata": {},
     "output_type": "execute_result"
    }
   ],
   "source": [
    "import pandas as pd\n",
    "import numpy as np\n",
    "df = pd.read_csv('credit_card.csv')\n",
    "df.head()"
   ]
  },
  {
   "cell_type": "code",
   "execution_count": 17,
   "metadata": {
    "colab": {
     "base_uri": "https://localhost:8080/"
    },
    "id": "lP20Qj8CxGsJ",
    "outputId": "a5f49999-1bf5-47d2-bd52-a637b7c5b954"
   },
   "outputs": [
    {
     "data": {
      "text/plain": [
       "(41188, 10)"
      ]
     },
     "execution_count": 17,
     "metadata": {},
     "output_type": "execute_result"
    }
   ],
   "source": [
    "df.shape"
   ]
  },
  {
   "cell_type": "code",
   "execution_count": 18,
   "metadata": {
    "colab": {
     "base_uri": "https://localhost:8080/",
     "height": 174
    },
    "id": "TGLZbyG7xMWI",
    "outputId": "6b709bdf-619a-4d59-ce71-4f1103e6e97f"
   },
   "outputs": [
    {
     "data": {
      "text/html": [
       "<div>\n",
       "<style scoped>\n",
       "    .dataframe tbody tr th:only-of-type {\n",
       "        vertical-align: middle;\n",
       "    }\n",
       "\n",
       "    .dataframe tbody tr th {\n",
       "        vertical-align: top;\n",
       "    }\n",
       "\n",
       "    .dataframe thead th {\n",
       "        text-align: right;\n",
       "    }\n",
       "</style>\n",
       "<table border=\"1\" class=\"dataframe\">\n",
       "  <thead>\n",
       "    <tr style=\"text-align: right;\">\n",
       "      <th></th>\n",
       "      <th>gender</th>\n",
       "      <th>job</th>\n",
       "      <th>marital</th>\n",
       "      <th>education</th>\n",
       "      <th>default</th>\n",
       "      <th>housing</th>\n",
       "      <th>loan</th>\n",
       "      <th>contact</th>\n",
       "      <th>CreditCard</th>\n",
       "    </tr>\n",
       "  </thead>\n",
       "  <tbody>\n",
       "    <tr>\n",
       "      <th>count</th>\n",
       "      <td>41188</td>\n",
       "      <td>41188</td>\n",
       "      <td>41188</td>\n",
       "      <td>41188</td>\n",
       "      <td>41188</td>\n",
       "      <td>41188</td>\n",
       "      <td>41188</td>\n",
       "      <td>41188</td>\n",
       "      <td>41188</td>\n",
       "    </tr>\n",
       "    <tr>\n",
       "      <th>unique</th>\n",
       "      <td>2</td>\n",
       "      <td>12</td>\n",
       "      <td>4</td>\n",
       "      <td>8</td>\n",
       "      <td>2</td>\n",
       "      <td>2</td>\n",
       "      <td>2</td>\n",
       "      <td>2</td>\n",
       "      <td>2</td>\n",
       "    </tr>\n",
       "    <tr>\n",
       "      <th>top</th>\n",
       "      <td>female</td>\n",
       "      <td>admin.</td>\n",
       "      <td>married</td>\n",
       "      <td>university.degree</td>\n",
       "      <td>no</td>\n",
       "      <td>yes</td>\n",
       "      <td>no</td>\n",
       "      <td>cellular</td>\n",
       "      <td>no</td>\n",
       "    </tr>\n",
       "    <tr>\n",
       "      <th>freq</th>\n",
       "      <td>20798</td>\n",
       "      <td>10422</td>\n",
       "      <td>24928</td>\n",
       "      <td>12168</td>\n",
       "      <td>32588</td>\n",
       "      <td>22566</td>\n",
       "      <td>33950</td>\n",
       "      <td>26144</td>\n",
       "      <td>36548</td>\n",
       "    </tr>\n",
       "  </tbody>\n",
       "</table>\n",
       "</div>"
      ],
      "text/plain": [
       "        gender     job  marital          education default housing   loan  \\\n",
       "count    41188   41188    41188              41188   41188   41188  41188   \n",
       "unique       2      12        4                  8       2       2      2   \n",
       "top     female  admin.  married  university.degree      no     yes     no   \n",
       "freq     20798   10422    24928              12168   32588   22566  33950   \n",
       "\n",
       "         contact CreditCard  \n",
       "count      41188      41188  \n",
       "unique         2          2  \n",
       "top     cellular         no  \n",
       "freq       26144      36548  "
      ]
     },
     "execution_count": 18,
     "metadata": {},
     "output_type": "execute_result"
    }
   ],
   "source": [
    "df.describe(include='O')"
   ]
  },
  {
   "cell_type": "code",
   "execution_count": 19,
   "metadata": {},
   "outputs": [
    {
     "data": {
      "text/html": [
       "<div>\n",
       "<style scoped>\n",
       "    .dataframe tbody tr th:only-of-type {\n",
       "        vertical-align: middle;\n",
       "    }\n",
       "\n",
       "    .dataframe tbody tr th {\n",
       "        vertical-align: top;\n",
       "    }\n",
       "\n",
       "    .dataframe thead th {\n",
       "        text-align: right;\n",
       "    }\n",
       "</style>\n",
       "<table border=\"1\" class=\"dataframe\">\n",
       "  <thead>\n",
       "    <tr style=\"text-align: right;\">\n",
       "      <th></th>\n",
       "      <th>age</th>\n",
       "    </tr>\n",
       "  </thead>\n",
       "  <tbody>\n",
       "    <tr>\n",
       "      <th>count</th>\n",
       "      <td>41188.00000</td>\n",
       "    </tr>\n",
       "    <tr>\n",
       "      <th>mean</th>\n",
       "      <td>40.02406</td>\n",
       "    </tr>\n",
       "    <tr>\n",
       "      <th>std</th>\n",
       "      <td>10.42125</td>\n",
       "    </tr>\n",
       "    <tr>\n",
       "      <th>min</th>\n",
       "      <td>17.00000</td>\n",
       "    </tr>\n",
       "    <tr>\n",
       "      <th>25%</th>\n",
       "      <td>32.00000</td>\n",
       "    </tr>\n",
       "    <tr>\n",
       "      <th>50%</th>\n",
       "      <td>38.00000</td>\n",
       "    </tr>\n",
       "    <tr>\n",
       "      <th>75%</th>\n",
       "      <td>47.00000</td>\n",
       "    </tr>\n",
       "    <tr>\n",
       "      <th>max</th>\n",
       "      <td>98.00000</td>\n",
       "    </tr>\n",
       "  </tbody>\n",
       "</table>\n",
       "</div>"
      ],
      "text/plain": [
       "               age\n",
       "count  41188.00000\n",
       "mean      40.02406\n",
       "std       10.42125\n",
       "min       17.00000\n",
       "25%       32.00000\n",
       "50%       38.00000\n",
       "75%       47.00000\n",
       "max       98.00000"
      ]
     },
     "execution_count": 19,
     "metadata": {},
     "output_type": "execute_result"
    }
   ],
   "source": [
    "df.describe()"
   ]
  },
  {
   "cell_type": "markdown",
   "metadata": {},
   "source": [
    "### What is the Probability that the Customer has no a Credit Card ?"
   ]
  },
  {
   "cell_type": "code",
   "execution_count": 20,
   "metadata": {
    "colab": {
     "base_uri": "https://localhost:8080/"
    },
    "id": "viasHmbhxTet",
    "outputId": "0722bbad-9c6b-424a-dd32-9491321541b3"
   },
   "outputs": [
    {
     "name": "stdout",
     "output_type": "stream",
     "text": [
      "Total number of customers: 41188\n"
     ]
    }
   ],
   "source": [
    "#First find the total number of customer\n",
    "S = df.shape[0]\n",
    "print(f\"Total number of customers: {S}\")"
   ]
  },
  {
   "cell_type": "code",
   "execution_count": 21,
   "metadata": {
    "colab": {
     "base_uri": "https://localhost:8080/"
    },
    "id": "he_pQnJixhns",
    "outputId": "65dcb6f2-4805-42a3-87a1-b7024dd511dd"
   },
   "outputs": [
    {
     "name": "stdout",
     "output_type": "stream",
     "text": [
      "Total Number of customers who do not have credit card is 36548\n"
     ]
    }
   ],
   "source": [
    "has_credit = df[df['CreditCard']== 'no']\n",
    "nc = len(has_credit)\n",
    "print(f\"Total Number of customers who do not have credit card is {nc}\")"
   ]
  },
  {
   "cell_type": "code",
   "execution_count": 22,
   "metadata": {
    "colab": {
     "base_uri": "https://localhost:8080/"
    },
    "id": "oszhJU7_x0Yh",
    "outputId": "b101db59-a8fe-44cc-857a-9341970b9ec7"
   },
   "outputs": [
    {
     "name": "stdout",
     "output_type": "stream",
     "text": [
      "Probability that a customer do not have a credit card is 0.887\n"
     ]
    }
   ],
   "source": [
    "p_nc = round(nc/S,3)\n",
    "print(f\"Probability that a customer do not have a credit card is {p_nc}\")"
   ]
  },
  {
   "cell_type": "markdown",
   "metadata": {
    "id": "tq_Jry0ax9-o"
   },
   "source": [
    "### What is the Probability that the Customer age is less than 20 ?"
   ]
  },
  {
   "cell_type": "code",
   "execution_count": 23,
   "metadata": {},
   "outputs": [
    {
     "name": "stdout",
     "output_type": "stream",
     "text": [
      "Total Number of customers whose age is less than 20 years is 75\n"
     ]
    }
   ],
   "source": [
    "young = df[df['age']<20]\n",
    "young_no = len(young)\n",
    "\n",
    "print(f\"Total Number of customers whose age is less than 20 years is {young_no}\")"
   ]
  },
  {
   "cell_type": "code",
   "execution_count": 24,
   "metadata": {},
   "outputs": [
    {
     "name": "stdout",
     "output_type": "stream",
     "text": [
      "Probability that the customer age is less than 20 is 0.002\n"
     ]
    }
   ],
   "source": [
    "p_young_no = round(young_no/S,3) \n",
    "print(f\"Probability that the customer age is less than 20 is {p_young_no}\")"
   ]
  },
  {
   "cell_type": "markdown",
   "metadata": {},
   "source": [
    "### What is the probability that the customer has a high school education level?"
   ]
  },
  {
   "cell_type": "code",
   "execution_count": 25,
   "metadata": {
    "colab": {
     "base_uri": "https://localhost:8080/"
    },
    "id": "PLJ9Zf3PyGjE",
    "outputId": "6a33ba55-d8ce-4179-b936-3a4fbddcfa52"
   },
   "outputs": [
    {
     "data": {
      "text/plain": [
       "university.degree      12168\n",
       "high.school             9515\n",
       "basic.9y                6045\n",
       "professional.course     5243\n",
       "basic.4y                4176\n",
       "basic.6y                2292\n",
       "unknown                 1731\n",
       "illiterate                18\n",
       "Name: education, dtype: int64"
      ]
     },
     "execution_count": 25,
     "metadata": {},
     "output_type": "execute_result"
    }
   ],
   "source": [
    "df['education'].value_counts()"
   ]
  },
  {
   "cell_type": "code",
   "execution_count": 26,
   "metadata": {
    "colab": {
     "base_uri": "https://localhost:8080/"
    },
    "id": "FgVZpni0yJe2",
    "outputId": "4242d34a-0476-4adb-9e9a-495a91207ef2"
   },
   "outputs": [
    {
     "name": "stdout",
     "output_type": "stream",
     "text": [
      "Probability that a customer is illiterate is 0.23101388754006022\n"
     ]
    }
   ],
   "source": [
    "hs = 9515\n",
    "p = hs/S\n",
    "print(f\"Probability that a customer is illiterate is {p}\")"
   ]
  },
  {
   "cell_type": "markdown",
   "metadata": {},
   "source": [
    "### What is the Probability that the Customer is married and has a Credit Card ?"
   ]
  },
  {
   "cell_type": "code",
   "execution_count": 27,
   "metadata": {
    "colab": {
     "base_uri": "https://localhost:8080/",
     "height": 237
    },
    "id": "BxLNMUhYyfnF",
    "outputId": "52f071d9-e662-4bfa-8b94-49a32f8ce471"
   },
   "outputs": [
    {
     "data": {
      "text/html": [
       "<div>\n",
       "<style scoped>\n",
       "    .dataframe tbody tr th:only-of-type {\n",
       "        vertical-align: middle;\n",
       "    }\n",
       "\n",
       "    .dataframe tbody tr th {\n",
       "        vertical-align: top;\n",
       "    }\n",
       "\n",
       "    .dataframe thead th {\n",
       "        text-align: right;\n",
       "    }\n",
       "</style>\n",
       "<table border=\"1\" class=\"dataframe\">\n",
       "  <thead>\n",
       "    <tr style=\"text-align: right;\">\n",
       "      <th>CreditCard</th>\n",
       "      <th>no</th>\n",
       "      <th>yes</th>\n",
       "      <th>All</th>\n",
       "    </tr>\n",
       "    <tr>\n",
       "      <th>marital</th>\n",
       "      <th></th>\n",
       "      <th></th>\n",
       "      <th></th>\n",
       "    </tr>\n",
       "  </thead>\n",
       "  <tbody>\n",
       "    <tr>\n",
       "      <th>divorced</th>\n",
       "      <td>4136</td>\n",
       "      <td>476</td>\n",
       "      <td>4612</td>\n",
       "    </tr>\n",
       "    <tr>\n",
       "      <th>married</th>\n",
       "      <td>22396</td>\n",
       "      <td>2532</td>\n",
       "      <td>24928</td>\n",
       "    </tr>\n",
       "    <tr>\n",
       "      <th>single</th>\n",
       "      <td>9948</td>\n",
       "      <td>1620</td>\n",
       "      <td>11568</td>\n",
       "    </tr>\n",
       "    <tr>\n",
       "      <th>unknown</th>\n",
       "      <td>68</td>\n",
       "      <td>12</td>\n",
       "      <td>80</td>\n",
       "    </tr>\n",
       "    <tr>\n",
       "      <th>All</th>\n",
       "      <td>36548</td>\n",
       "      <td>4640</td>\n",
       "      <td>41188</td>\n",
       "    </tr>\n",
       "  </tbody>\n",
       "</table>\n",
       "</div>"
      ],
      "text/plain": [
       "CreditCard     no   yes    All\n",
       "marital                       \n",
       "divorced     4136   476   4612\n",
       "married     22396  2532  24928\n",
       "single       9948  1620  11568\n",
       "unknown        68    12     80\n",
       "All         36548  4640  41188"
      ]
     },
     "execution_count": 27,
     "metadata": {},
     "output_type": "execute_result"
    }
   ],
   "source": [
    "#What is the Probability that the Customer is Single and has a Credit Card ?\n",
    "pd.crosstab(df['marital'],df['CreditCard'],margins=True)"
   ]
  },
  {
   "cell_type": "code",
   "execution_count": 28,
   "metadata": {
    "colab": {
     "base_uri": "https://localhost:8080/"
    },
    "id": "CTHv-xKqy7wj",
    "outputId": "ab09e56a-4e71-4bb9-aa01-e55b46434eec"
   },
   "outputs": [
    {
     "name": "stdout",
     "output_type": "stream",
     "text": [
      "Probability that  a customer is single and having a credit card is 0.06147421579100709\n"
     ]
    }
   ],
   "source": [
    "mc = 2532\n",
    "print(f\"Probability that  a customer is single and having a credit card is {mc/S}\")"
   ]
  },
  {
   "cell_type": "markdown",
   "metadata": {},
   "source": [
    "### What is the Probability that the Customer is unemployed and is divorced ?"
   ]
  },
  {
   "cell_type": "code",
   "execution_count": 29,
   "metadata": {
    "colab": {
     "base_uri": "https://localhost:8080/",
     "height": 318
    },
    "id": "gypSYxsPzq8_",
    "outputId": "9464a554-ea25-4335-98ae-757b2234f948"
   },
   "outputs": [
    {
     "data": {
      "text/html": [
       "<div>\n",
       "<style scoped>\n",
       "    .dataframe tbody tr th:only-of-type {\n",
       "        vertical-align: middle;\n",
       "    }\n",
       "\n",
       "    .dataframe tbody tr th {\n",
       "        vertical-align: top;\n",
       "    }\n",
       "\n",
       "    .dataframe thead th {\n",
       "        text-align: right;\n",
       "    }\n",
       "</style>\n",
       "<table border=\"1\" class=\"dataframe\">\n",
       "  <thead>\n",
       "    <tr style=\"text-align: right;\">\n",
       "      <th>job</th>\n",
       "      <th>admin.</th>\n",
       "      <th>blue-collar</th>\n",
       "      <th>entrepreneur</th>\n",
       "      <th>housemaid</th>\n",
       "      <th>management</th>\n",
       "      <th>retired</th>\n",
       "      <th>self-employed</th>\n",
       "      <th>services</th>\n",
       "      <th>student</th>\n",
       "      <th>technician</th>\n",
       "      <th>unemployed</th>\n",
       "      <th>unknown</th>\n",
       "      <th>All</th>\n",
       "    </tr>\n",
       "    <tr>\n",
       "      <th>marital</th>\n",
       "      <th></th>\n",
       "      <th></th>\n",
       "      <th></th>\n",
       "      <th></th>\n",
       "      <th></th>\n",
       "      <th></th>\n",
       "      <th></th>\n",
       "      <th></th>\n",
       "      <th></th>\n",
       "      <th></th>\n",
       "      <th></th>\n",
       "      <th></th>\n",
       "      <th></th>\n",
       "    </tr>\n",
       "  </thead>\n",
       "  <tbody>\n",
       "    <tr>\n",
       "      <th>divorced</th>\n",
       "      <td>1280</td>\n",
       "      <td>728</td>\n",
       "      <td>179</td>\n",
       "      <td>161</td>\n",
       "      <td>331</td>\n",
       "      <td>348</td>\n",
       "      <td>133</td>\n",
       "      <td>532</td>\n",
       "      <td>9</td>\n",
       "      <td>774</td>\n",
       "      <td>124</td>\n",
       "      <td>13</td>\n",
       "      <td>4612</td>\n",
       "    </tr>\n",
       "    <tr>\n",
       "      <th>married</th>\n",
       "      <td>5253</td>\n",
       "      <td>6687</td>\n",
       "      <td>1071</td>\n",
       "      <td>777</td>\n",
       "      <td>2089</td>\n",
       "      <td>1274</td>\n",
       "      <td>904</td>\n",
       "      <td>2294</td>\n",
       "      <td>41</td>\n",
       "      <td>3670</td>\n",
       "      <td>634</td>\n",
       "      <td>234</td>\n",
       "      <td>24928</td>\n",
       "    </tr>\n",
       "    <tr>\n",
       "      <th>single</th>\n",
       "      <td>3875</td>\n",
       "      <td>1825</td>\n",
       "      <td>203</td>\n",
       "      <td>119</td>\n",
       "      <td>501</td>\n",
       "      <td>93</td>\n",
       "      <td>379</td>\n",
       "      <td>1137</td>\n",
       "      <td>824</td>\n",
       "      <td>2287</td>\n",
       "      <td>251</td>\n",
       "      <td>74</td>\n",
       "      <td>11568</td>\n",
       "    </tr>\n",
       "    <tr>\n",
       "      <th>unknown</th>\n",
       "      <td>14</td>\n",
       "      <td>14</td>\n",
       "      <td>3</td>\n",
       "      <td>3</td>\n",
       "      <td>3</td>\n",
       "      <td>5</td>\n",
       "      <td>5</td>\n",
       "      <td>6</td>\n",
       "      <td>1</td>\n",
       "      <td>12</td>\n",
       "      <td>5</td>\n",
       "      <td>9</td>\n",
       "      <td>80</td>\n",
       "    </tr>\n",
       "    <tr>\n",
       "      <th>All</th>\n",
       "      <td>10422</td>\n",
       "      <td>9254</td>\n",
       "      <td>1456</td>\n",
       "      <td>1060</td>\n",
       "      <td>2924</td>\n",
       "      <td>1720</td>\n",
       "      <td>1421</td>\n",
       "      <td>3969</td>\n",
       "      <td>875</td>\n",
       "      <td>6743</td>\n",
       "      <td>1014</td>\n",
       "      <td>330</td>\n",
       "      <td>41188</td>\n",
       "    </tr>\n",
       "  </tbody>\n",
       "</table>\n",
       "</div>"
      ],
      "text/plain": [
       "job       admin.  blue-collar  entrepreneur  housemaid  management  retired  \\\n",
       "marital                                                                       \n",
       "divorced    1280          728           179        161         331      348   \n",
       "married     5253         6687          1071        777        2089     1274   \n",
       "single      3875         1825           203        119         501       93   \n",
       "unknown       14           14             3          3           3        5   \n",
       "All        10422         9254          1456       1060        2924     1720   \n",
       "\n",
       "job       self-employed  services  student  technician  unemployed  unknown  \\\n",
       "marital                                                                       \n",
       "divorced            133       532        9         774         124       13   \n",
       "married             904      2294       41        3670         634      234   \n",
       "single              379      1137      824        2287         251       74   \n",
       "unknown               5         6        1          12           5        9   \n",
       "All                1421      3969      875        6743        1014      330   \n",
       "\n",
       "job         All  \n",
       "marital          \n",
       "divorced   4612  \n",
       "married   24928  \n",
       "single    11568  \n",
       "unknown      80  \n",
       "All       41188  "
      ]
     },
     "execution_count": 29,
     "metadata": {},
     "output_type": "execute_result"
    }
   ],
   "source": [
    "# What is the Probability that the Customer is unemployed and is divorced ?\n",
    "pd.crosstab(df['marital'],df['job'],margins=True)"
   ]
  },
  {
   "cell_type": "code",
   "execution_count": 30,
   "metadata": {
    "colab": {
     "base_uri": "https://localhost:8080/"
    },
    "id": "BsiDSKuMz2dv",
    "outputId": "63add801-3f4b-45b8-8abc-bed13c8733c7"
   },
   "outputs": [
    {
     "name": "stdout",
     "output_type": "stream",
     "text": [
      "Probability that  a customer is Customer is is Retired and is divorced is 0.003010585607458483\n"
     ]
    }
   ],
   "source": [
    "ud = 124\n",
    "print(f\"Probability that  a customer is Customer is is Retired and is divorced is {ud/S}\")"
   ]
  },
  {
   "cell_type": "markdown",
   "metadata": {},
   "source": [
    "### Given the Customer has no credit card, find the probability that he/she is married ?"
   ]
  },
  {
   "cell_type": "code",
   "execution_count": 33,
   "metadata": {
    "colab": {
     "base_uri": "https://localhost:8080/",
     "height": 237
    },
    "id": "OxVN6dNGz_xE",
    "outputId": "c2788e78-202b-4a54-8344-02c033ce39ac"
   },
   "outputs": [
    {
     "data": {
      "text/html": [
       "<div>\n",
       "<style scoped>\n",
       "    .dataframe tbody tr th:only-of-type {\n",
       "        vertical-align: middle;\n",
       "    }\n",
       "\n",
       "    .dataframe tbody tr th {\n",
       "        vertical-align: top;\n",
       "    }\n",
       "\n",
       "    .dataframe thead th {\n",
       "        text-align: right;\n",
       "    }\n",
       "</style>\n",
       "<table border=\"1\" class=\"dataframe\">\n",
       "  <thead>\n",
       "    <tr style=\"text-align: right;\">\n",
       "      <th>CreditCard</th>\n",
       "      <th>no</th>\n",
       "      <th>yes</th>\n",
       "      <th>All</th>\n",
       "    </tr>\n",
       "    <tr>\n",
       "      <th>marital</th>\n",
       "      <th></th>\n",
       "      <th></th>\n",
       "      <th></th>\n",
       "    </tr>\n",
       "  </thead>\n",
       "  <tbody>\n",
       "    <tr>\n",
       "      <th>divorced</th>\n",
       "      <td>4136</td>\n",
       "      <td>476</td>\n",
       "      <td>4612</td>\n",
       "    </tr>\n",
       "    <tr>\n",
       "      <th>married</th>\n",
       "      <td>22396</td>\n",
       "      <td>2532</td>\n",
       "      <td>24928</td>\n",
       "    </tr>\n",
       "    <tr>\n",
       "      <th>single</th>\n",
       "      <td>9948</td>\n",
       "      <td>1620</td>\n",
       "      <td>11568</td>\n",
       "    </tr>\n",
       "    <tr>\n",
       "      <th>unknown</th>\n",
       "      <td>68</td>\n",
       "      <td>12</td>\n",
       "      <td>80</td>\n",
       "    </tr>\n",
       "    <tr>\n",
       "      <th>All</th>\n",
       "      <td>36548</td>\n",
       "      <td>4640</td>\n",
       "      <td>41188</td>\n",
       "    </tr>\n",
       "  </tbody>\n",
       "</table>\n",
       "</div>"
      ],
      "text/plain": [
       "CreditCard     no   yes    All\n",
       "marital                       \n",
       "divorced     4136   476   4612\n",
       "married     22396  2532  24928\n",
       "single       9948  1620  11568\n",
       "unknown        68    12     80\n",
       "All         36548  4640  41188"
      ]
     },
     "execution_count": 33,
     "metadata": {},
     "output_type": "execute_result"
    }
   ],
   "source": [
    "#Given the Customer has the credit card, find the probability that he/she is married ?\n",
    "pd.crosstab(df['marital'],df['CreditCard'],margins=True)"
   ]
  },
  {
   "cell_type": "code",
   "execution_count": null,
   "metadata": {
    "colab": {
     "base_uri": "https://localhost:8080/"
    },
    "id": "DqPGoahj0Nl9",
    "outputId": "62f1fe57-390b-432c-9343-9ee759a523ec"
   },
   "outputs": [],
   "source": [
    "P_AnB = 22396\n",
    "P_B = 36548\n",
    "#PA = Customer is Married\n",
    "# P(A|B) = P(AnB)/P(B)\n",
    "print(f\"Given the Customer has the credit card, probability that he/she is married is {P_AnB/P_B}\")"
   ]
  },
  {
   "cell_type": "markdown",
   "metadata": {},
   "source": [
    "### If a customer is unemployed, find the probability that he has a housing"
   ]
  },
  {
   "cell_type": "code",
   "execution_count": null,
   "metadata": {
    "colab": {
     "base_uri": "https://localhost:8080/",
     "height": 488
    },
    "id": "NbRcWEjK080g",
    "outputId": "05eb51db-3b7d-49f4-9498-d6e77d80549b"
   },
   "outputs": [],
   "source": [
    "# If a customer has a blue collar job, find the probability that he has a housing\n",
    "# P(B) = customer has a blue collar job\n",
    "pd.crosstab(data['job'],data['housing'],margins=True)"
   ]
  },
  {
   "cell_type": "code",
   "execution_count": 32,
   "metadata": {
    "colab": {
     "base_uri": "https://localhost:8080/"
    },
    "id": "XAMqgTnf4R35",
    "outputId": "6280fa04-0778-493e-9437-083c5b7a263c"
   },
   "outputs": [
    {
     "name": "stdout",
     "output_type": "stream",
     "text": [
      "If a customer has a blue collar job, probability that he has a housing is 0.5759368836291914 \n"
     ]
    }
   ],
   "source": [
    "pB = 1014\n",
    "pAnB = 584\n",
    "print(f\"If a customer has a blue collar job, probability that he has a housing is {pAnB/pB} \")"
   ]
  }
 ],
 "metadata": {
  "colab": {
   "collapsed_sections": [],
   "provenance": []
  },
  "kernelspec": {
   "display_name": "Python 3 (ipykernel)",
   "language": "python",
   "name": "python3"
  },
  "language_info": {
   "codemirror_mode": {
    "name": "ipython",
    "version": 3
   },
   "file_extension": ".py",
   "mimetype": "text/x-python",
   "name": "python",
   "nbconvert_exporter": "python",
   "pygments_lexer": "ipython3",
   "version": "3.11.4"
  }
 },
 "nbformat": 4,
 "nbformat_minor": 1
}
