{
 "cells": [
  {
   "cell_type": "markdown",
   "metadata": {},
   "source": [
    "<h1 align='center'>  <font size = '6' color='red'>Questions for Hypothesis Test Part 1 <font> </h1>\n",
    "<br>"
   ]
  },
  {
   "cell_type": "code",
   "execution_count": 27,
   "metadata": {
    "colab": {
     "base_uri": "https://localhost:8080/",
     "height": 206
    },
    "id": "_IjU1PJjJddu",
    "outputId": "fd95f80c-3f8b-49ac-e3a0-519f37ef0335"
   },
   "outputs": [],
   "source": [
    "#import lib\n",
    "import pandas as pd\n",
    "from scipy.stats import ttest_1samp\n",
    "from scipy.stats import norm\n",
    "import seaborn as sns\n",
    "import numpy as np"
   ]
  },
  {
   "cell_type": "markdown",
   "metadata": {},
   "source": [
    "## Q1: A teacher wants to test he calim that the students from his department have high IQ than the rest of students because they have high level of critical thinking. The population mean of IQ score is 100. The teacher gave an IQ test to the students and obtains the following scores: 98, 105, 103, 97, 102, 99, 101, 96, 104, 100, 95, 106, 107, 94, 108, 109, 93, 110, 111, 92, 112, 113, 91, 114, 115. The teacher performs a one-sample t-test to compare the sample mean to the population mean.\n"
   ]
  },
  {
   "cell_type": "markdown",
   "metadata": {},
   "source": [
    "### Make a list of the sample data (1 mark)"
   ]
  },
  {
   "cell_type": "code",
   "execution_count": 28,
   "metadata": {},
   "outputs": [
    {
     "data": {
      "text/plain": [
       "25"
      ]
     },
     "execution_count": 28,
     "metadata": {},
     "output_type": "execute_result"
    }
   ],
   "source": [
    "#make a list of the sample data\n",
    "students = [98,105,103,97,102,99,101,96,104,100,95,106,107,94,108,109,93,110,111,92,112,113,91,114,115]\n",
    "\n",
    "#Write down the population mean\n",
    "population_mean = 100\n",
    "len(students)\n"
   ]
  },
  {
   "cell_type": "markdown",
   "metadata": {},
   "source": [
    "### Check for outlier since your sample size is less than 30 (1 mark)"
   ]
  },
  {
   "cell_type": "code",
   "execution_count": 30,
   "metadata": {},
   "outputs": [
    {
     "data": {
      "text/plain": [
       "<Axes: >"
      ]
     },
     "execution_count": 30,
     "metadata": {},
     "output_type": "execute_result"
    },
    {
     "data": {
      "image/png": "[encoded data removed]",
      "text/plain": [
       "<Figure size 640x480 with 1 Axes>"
      ]
     },
     "metadata": {},
     "output_type": "display_data"
    }
   ],
   "source": [
    "#check if you have outlier or not by drawing boxplot using seaborn\n",
    "sns.boxplot(students)\n"
   ]
  },
  {
   "cell_type": "markdown",
   "metadata": {},
   "source": [
    "### Write down the null and alternative hypothesis (1 mark)\n"
   ]
  },
  {
   "cell_type": "markdown",
   "metadata": {},
   "source": [
    "### H0:  There is no significant difference in the average IQ scores of the students from the teacher's department compared to the population mean IQ score of 100\n",
    "## H1: There is a significant difference in the average IQ scores of the students from the teacher's department compared to the population mean IQ score of 100. mu > 100 "
   ]
  },
  {
   "cell_type": "markdown",
   "metadata": {},
   "source": [
    "###  What is the type of your test and why? (0.5 mark)\n",
    "## One sample T-test and right tailed.sample is less than 30 and we have only one sample"
   ]
  },
  {
   "cell_type": "markdown",
   "metadata": {},
   "source": [
    "\n"
   ]
  },
  {
   "cell_type": "markdown",
   "metadata": {},
   "source": [
    "### Calculate t-test value (1 mark)"
   ]
  },
  {
   "cell_type": "code",
   "execution_count": 25,
   "metadata": {
    "colab": {
     "base_uri": "https://localhost:8080/"
    },
    "id": "e3xSJFgmJ2fA",
    "outputId": "ef64beff-668d-4998-c681-8d2ee063ce31"
   },
   "outputs": [
    {
     "name": "stdout",
     "output_type": "stream",
     "text": [
      "2.0380986614602725\n",
      "Critical t-value (two-tailed) at 95% confidence: 2.0638985616280205\n",
      "Fail to reject the null hypothesis: There is no significant difference in IQ levels.\n",
      "103.0\n",
      "100\n"
     ]
    }
   ],
   "source": [
    "\n",
    "# Display the t-test value\n",
    "sample_mean = np.mean(students)\n",
    "sample_std = np.std(students, ddof=1)\n",
    "\n",
    "t_score = (sample_mean - population_mean) / (sample_std / np.sqrt(len(students)))\n",
    "degrees_of_freedom = len(students) - 1 #25 - sample size\n",
    "\n",
    "alpha = 0.05\n",
    "critical_t_value = stats.t.ppf(1 - alpha/2, degrees_of_freedom)\n",
    "print(t_score)\n",
    "\n",
    "print(f\"Critical t-value (two-tailed): {critical_t_value}\")\n",
    "\n",
    "if abs(t_score) > critical_t_value:\n",
    "    print(\"Reject the null hypothesis: There is a significant difference in IQ levels.\")\n",
    "else:\n",
    "    print(\"Fail to reject the null hypothesis: There is no significant difference in IQ levels.\")\n",
    "print(sample_mean)\n",
    "print(population_mean)"
   ]
  },
  {
   "cell_type": "markdown",
   "metadata": {
    "id": "lTBliw37LTxY"
   },
   "source": [
    "### To conclude:  (1 mark)\n",
    "\n"
   ]
  },
  {
   "cell_type": "markdown",
   "metadata": {},
   "source": [
    "## Q2. A factory claims that its light bulbs have a mean lifetime of 1000 hours with a standard deviation of 100 hours. A consumer group wants to test whether the factory’s claim is true or not. The group randomly selects 36 light bulbs from the factory and measures their lifetimes. The sample mean is 980 hours. Perform appropriate hypothesis test to compare the sample mean to the population mean.\n"
   ]
  },
  {
   "cell_type": "markdown",
   "metadata": {},
   "source": [
    "### State the hypothesis (null and alternative) (1 mark)"
   ]
  },
  {
   "cell_type": "markdown",
   "metadata": {},
   "source": [
    "## H0:  The factory's claim about the mean lifetime of light bulbs is true, i.e., the population mean lifetime of light bulbs is equal to 1000 \n",
    "## H1: The factory's claim about the mean lifetime of light bulbs is not true, i.e., the population mean lifetime of light bulbs is different from 1000 hours.\n"
   ]
  },
  {
   "cell_type": "markdown",
   "metadata": {},
   "source": [
    "###  What is the type of your test and why? (0.5 mark)"
   ]
  },
  {
   "cell_type": "markdown",
   "metadata": {},
   "source": [
    "\n",
    "## standard deviation in known and we compare the sample mean to the population mean and sample size is large"
   ]
  },
  {
   "cell_type": "markdown",
   "metadata": {},
   "source": [
    "### Calculate the test using its formula (1 mark)"
   ]
  },
  {
   "cell_type": "code",
   "execution_count": 3,
   "metadata": {},
   "outputs": [
    {
     "name": "stdout",
     "output_type": "stream",
     "text": [
      "-1.2\n"
     ]
    }
   ],
   "source": [
    "#Given\n",
    "light_mean=1000\n",
    "std_dev=100\n",
    "n_sample=36\n",
    "sample_mean=980\n",
    "\n",
    "#Substituting the given values into the formula:\n",
    "import math\n",
    "#H0=sample_mean=light_mean\n",
    "#H1=sample_mean!=light_mean\n",
    "standard_error = std_dev / (n_sample ** 0.5)\n",
    "z_score = (sample_mean - light_mean) / standard_error\n",
    "print(z_score)\n"
   ]
  },
  {
   "cell_type": "markdown",
   "metadata": {},
   "source": [
    "### Calculate p-value using scipy.stats (1 mark)"
   ]
  },
  {
   "cell_type": "code",
   "execution_count": 23,
   "metadata": {},
   "outputs": [
    {
     "name": "stdout",
     "output_type": "stream",
     "text": [
      "Calculated p-value: 0.23013934044341644\n"
     ]
    }
   ],
   "source": [
    "from scipy import stats\n",
    "p_value = 2 * stats.norm.sf(abs(z_score))\n",
    "alpha = 0.05\n",
    "print(f\"Calculated p-value: {p_value}\")"
   ]
  },
  {
   "cell_type": "markdown",
   "metadata": {},
   "source": [
    "### To conclude:  (1 mark)\n",
    "\n"
   ]
  },
  {
   "cell_type": "code",
   "execution_count": 24,
   "metadata": {},
   "outputs": [
    {
     "name": "stdout",
     "output_type": "stream",
     "text": [
      "Fail to reject the null hypothesis: There is no significant difference in the mean lifetime of light bulbs.\n"
     ]
    }
   ],
   "source": [
    "if p_value < alpha:\n",
    "    print(\"Reject the null hypothesis: There is a significant difference in the mean lifetime of light bulbs.\")\n",
    "else:\n",
    "    print(\"Fail to reject the null hypothesis: There is no significant difference in the mean lifetime of light bulbs.\")"
   ]
  },
  {
   "cell_type": "code",
   "execution_count": null,
   "metadata": {},
   "outputs": [],
   "source": []
  }
 ],
 "metadata": {
  "colab": {
   "collapsed_sections": [],
   "provenance": []
  },
  "kernelspec": {
   "display_name": "Python 3 (ipykernel)",
   "language": "python",
   "name": "python3"
  },
  "language_info": {
   "codemirror_mode": {
    "name": "ipython",
    "version": 3
   },
   "file_extension": ".py",
   "mimetype": "text/x-python",
   "name": "python",
   "nbconvert_exporter": "python",
   "pygments_lexer": "ipython3",
   "version": "3.11.4"
  }
 },
 "nbformat": 4,
 "nbformat_minor": 1
}
