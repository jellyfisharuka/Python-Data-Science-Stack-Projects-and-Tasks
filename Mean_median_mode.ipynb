{
 "cells": [
  {
   "cell_type": "markdown",
   "metadata": {
    "colab": {
     "base_uri": "https://localhost:8080/"
    },
    "id": "k9KgLIjfO1VY",
    "outputId": "10bae68f-d7b8-4ab1-918b-38c054525a09"
   },
   "source": [
    "\n",
    "<h1 align='center'>  <font size = '6' color='red'> 2 <font> </h1>"
   ]
  },
  {
   "cell_type": "code",
   "execution_count": 1,
   "metadata": {
    "id": "tWkKXSzePmQ1"
   },
   "outputs": [],
   "source": [
    "\n",
    "import pandas as pd\n",
    "import numpy as np"
   ]
  },
  {
   "cell_type": "code",
   "execution_count": 4,
   "metadata": {
    "id": "39tV9sSePozK"
   },
   "outputs": [],
   "source": [
    "#Read the file with the name \"martsales.csv\" using panadas (1 mark)\n",
    "\n",
    "df = pd.read_csv('C:/Users/aruke/Downloads/martsales.csv')\n"
   ]
  },
  {
   "cell_type": "code",
   "execution_count": 15,
   "metadata": {
    "colab": {
     "base_uri": "https://localhost:8080/",
     "height": 357
    },
    "id": "xzuLA_CmPslZ",
    "outputId": "e60eaa25-1d55-41f1-ad95-df33b21274b4"
   },
   "outputs": [
    {
     "data": {
      "text/html": [
       "<div>\n",
       "<style scoped>\n",
       "    .dataframe tbody tr th:only-of-type {\n",
       "        vertical-align: middle;\n",
       "    }\n",
       "\n",
       "    .dataframe tbody tr th {\n",
       "        vertical-align: top;\n",
       "    }\n",
       "\n",
       "    .dataframe thead th {\n",
       "        text-align: right;\n",
       "    }\n",
       "</style>\n",
       "<table border=\"1\" class=\"dataframe\">\n",
       "  <thead>\n",
       "    <tr style=\"text-align: right;\">\n",
       "      <th></th>\n",
       "      <th>Item_Identifier</th>\n",
       "      <th>Item_Weight</th>\n",
       "      <th>Item_Fat_Content</th>\n",
       "      <th>Item_Visibility</th>\n",
       "      <th>Item_Type</th>\n",
       "      <th>Item_MRP</th>\n",
       "      <th>Outlet_Identifier</th>\n",
       "      <th>Outlet_Establishment_Year</th>\n",
       "      <th>Outlet_Size</th>\n",
       "      <th>Outlet_Location_Type</th>\n",
       "      <th>Outlet_Type</th>\n",
       "      <th>Item_Outlet_Sales</th>\n",
       "    </tr>\n",
       "  </thead>\n",
       "  <tbody>\n",
       "    <tr>\n",
       "      <th>0</th>\n",
       "      <td>FDA15</td>\n",
       "      <td>9.30</td>\n",
       "      <td>Low Fat</td>\n",
       "      <td>0.016047</td>\n",
       "      <td>Dairy</td>\n",
       "      <td>249.8092</td>\n",
       "      <td>OUT049</td>\n",
       "      <td>1999</td>\n",
       "      <td>Medium</td>\n",
       "      <td>Tier 1</td>\n",
       "      <td>Supermarket Type1</td>\n",
       "      <td>3735.1380</td>\n",
       "    </tr>\n",
       "    <tr>\n",
       "      <th>1</th>\n",
       "      <td>DRC01</td>\n",
       "      <td>5.92</td>\n",
       "      <td>Regular</td>\n",
       "      <td>0.019278</td>\n",
       "      <td>Soft Drinks</td>\n",
       "      <td>48.2692</td>\n",
       "      <td>OUT018</td>\n",
       "      <td>2009</td>\n",
       "      <td>Medium</td>\n",
       "      <td>Tier 3</td>\n",
       "      <td>Supermarket Type2</td>\n",
       "      <td>443.4228</td>\n",
       "    </tr>\n",
       "    <tr>\n",
       "      <th>2</th>\n",
       "      <td>FDN15</td>\n",
       "      <td>17.50</td>\n",
       "      <td>Low Fat</td>\n",
       "      <td>0.016760</td>\n",
       "      <td>Meat</td>\n",
       "      <td>141.6180</td>\n",
       "      <td>OUT049</td>\n",
       "      <td>1999</td>\n",
       "      <td>Medium</td>\n",
       "      <td>Tier 1</td>\n",
       "      <td>Supermarket Type1</td>\n",
       "      <td>2097.2700</td>\n",
       "    </tr>\n",
       "    <tr>\n",
       "      <th>3</th>\n",
       "      <td>FDX07</td>\n",
       "      <td>19.20</td>\n",
       "      <td>Regular</td>\n",
       "      <td>0.000000</td>\n",
       "      <td>Fruits and Vegetables</td>\n",
       "      <td>182.0950</td>\n",
       "      <td>OUT010</td>\n",
       "      <td>1998</td>\n",
       "      <td>NaN</td>\n",
       "      <td>Tier 3</td>\n",
       "      <td>Grocery Store</td>\n",
       "      <td>732.3800</td>\n",
       "    </tr>\n",
       "    <tr>\n",
       "      <th>4</th>\n",
       "      <td>NCD19</td>\n",
       "      <td>8.93</td>\n",
       "      <td>Low Fat</td>\n",
       "      <td>0.000000</td>\n",
       "      <td>Household</td>\n",
       "      <td>53.8614</td>\n",
       "      <td>OUT013</td>\n",
       "      <td>1987</td>\n",
       "      <td>High</td>\n",
       "      <td>Tier 3</td>\n",
       "      <td>Supermarket Type1</td>\n",
       "      <td>994.7052</td>\n",
       "    </tr>\n",
       "  </tbody>\n",
       "</table>\n",
       "</div>"
      ],
      "text/plain": [
       "  Item_Identifier  Item_Weight Item_Fat_Content  Item_Visibility  \\\n",
       "0           FDA15         9.30          Low Fat         0.016047   \n",
       "1           DRC01         5.92          Regular         0.019278   \n",
       "2           FDN15        17.50          Low Fat         0.016760   \n",
       "3           FDX07        19.20          Regular         0.000000   \n",
       "4           NCD19         8.93          Low Fat         0.000000   \n",
       "\n",
       "               Item_Type  Item_MRP Outlet_Identifier  \\\n",
       "0                  Dairy  249.8092            OUT049   \n",
       "1            Soft Drinks   48.2692            OUT018   \n",
       "2                   Meat  141.6180            OUT049   \n",
       "3  Fruits and Vegetables  182.0950            OUT010   \n",
       "4              Household   53.8614            OUT013   \n",
       "\n",
       "   Outlet_Establishment_Year Outlet_Size Outlet_Location_Type  \\\n",
       "0                       1999      Medium               Tier 1   \n",
       "1                       2009      Medium               Tier 3   \n",
       "2                       1999      Medium               Tier 1   \n",
       "3                       1998         NaN               Tier 3   \n",
       "4                       1987        High               Tier 3   \n",
       "\n",
       "         Outlet_Type  Item_Outlet_Sales  \n",
       "0  Supermarket Type1          3735.1380  \n",
       "1  Supermarket Type2           443.4228  \n",
       "2  Supermarket Type1          2097.2700  \n",
       "3      Grocery Store           732.3800  \n",
       "4  Supermarket Type1           994.7052  "
      ]
     },
     "execution_count": 15,
     "metadata": {},
     "output_type": "execute_result"
    }
   ],
   "source": [
    "\n",
    "df.head()"
   ]
  },
  {
   "cell_type": "code",
   "execution_count": 6,
   "metadata": {
    "colab": {
     "base_uri": "https://localhost:8080/"
    },
    "id": "XzZMftDjPt0g",
    "outputId": "852436e3-785a-4fca-9cd8-95bb6c5c9abb"
   },
   "outputs": [
    {
     "name": "stdout",
     "output_type": "stream",
     "text": [
      "Mean of Item_MRP: 140.9927819781767\n",
      "Mean of Item_Outlet_Sales: 2181.288913575032\n"
     ]
    }
   ],
   "source": [
    "#Calculating the mean of 'Item_MRP' and 'Item_Outlet_Sales'\n",
    "\n",
    "mean_item_mrp = df['Item_MRP'].mean()\n",
    "mean_item_outlet_sales = df['Item_Outlet_Sales'].mean()\n",
    "\n",
    "print(f\"Mean of Item_MRP: {mean_item_mrp}\")\n",
    "print(f\"Mean of Item_Outlet_Sales: {mean_item_outlet_sales}\")"
   ]
  },
  {
   "cell_type": "code",
   "execution_count": 7,
   "metadata": {
    "colab": {
     "base_uri": "https://localhost:8080/"
    },
    "id": "37-FhLP3QXXA",
    "outputId": "b6b9fed6-3cb5-4bcb-ed6f-7608dacb5ec9"
   },
   "outputs": [
    {
     "name": "stdout",
     "output_type": "stream",
     "text": [
      "Median of Item_MRP: 143.0128\n",
      "Median of Item_Outlet_Sales: 1794.331\n"
     ]
    }
   ],
   "source": [
    "#Calculating the median of 'Item_MRP' and 'Item_Outlet_Sales' \n",
    "\n",
    "median_item_mrp = df['Item_MRP'].median()\n",
    "median_item_outlet_sales = df['Item_Outlet_Sales'].median()\n",
    "\n",
    "print(f\"Median of Item_MRP: {median_item_mrp}\")\n",
    "print(f\"Median of Item_Outlet_Sales: {median_item_outlet_sales}\")\n"
   ]
  },
  {
   "cell_type": "code",
   "execution_count": 8,
   "metadata": {
    "colab": {
     "base_uri": "https://localhost:8080/",
     "height": 81
    },
    "id": "nlMEeepeQZNm",
    "outputId": "77d34c6a-26b8-4fa2-acf6-c3acde06f0e6"
   },
   "outputs": [
    {
     "name": "stdout",
     "output_type": "stream",
     "text": [
      "Mode of Item_MRP:\n",
      "0    172.0422\n",
      "Name: Item_MRP, dtype: float64\n",
      "\n",
      "Mode of Item_Outlet_Sales:\n",
      "0    958.752\n",
      "Name: Item_Outlet_Sales, dtype: float64\n"
     ]
    }
   ],
   "source": [
    " #Calculating the mode of 'Item_MRP' and 'Item_Outlet_Sales'\n",
    "\n",
    "mode_item_mrp = df['Item_MRP'].mode()\n",
    "mode_item_outlet_sales = df['Item_Outlet_Sales'].mode()\n",
    "\n",
    "print(f\"Mode of Item_MRP:\")\n",
    "print(mode_item_mrp)\n",
    "print(f\"\\nMode of Item_Outlet_Sales:\")\n",
    "print(mode_item_outlet_sales)\n",
    "    "
   ]
  },
  {
   "cell_type": "code",
   "execution_count": 9,
   "metadata": {
    "colab": {
     "base_uri": "https://localhost:8080/"
    },
    "id": "VGdUGOfsQlxz",
    "outputId": "39a25e23-875b-467c-b711-3fc7a9a7a307"
   },
   "outputs": [
    {
     "name": "stdout",
     "output_type": "stream",
     "text": [
      "Range of Item_MRP: 235.5984\n"
     ]
    }
   ],
   "source": [
    "#Calaculating the range of 'Item_MRP' \n",
    "\n",
    "item_mrp_range = df['Item_MRP'].max() - df['Item_MRP'].min()\n",
    "\n",
    "print(f\"Range of Item_MRP: {item_mrp_range}\")\n"
   ]
  },
  {
   "cell_type": "code",
   "execution_count": 10,
   "metadata": {
    "colab": {
     "base_uri": "https://localhost:8080/"
    },
    "id": "moAo_iEsQwoM",
    "outputId": "b1dc5ff9-2fb0-4b14-995c-7bb172315f83"
   },
   "outputs": [
    {
     "name": "stdout",
     "output_type": "stream",
     "text": [
      "Standard Deviation of Item_MRP: 62.27506651219039\n",
      "Standard Deviation of Item_Outlet_Sales: 1706.499615733832\n"
     ]
    }
   ],
   "source": [
    "#Calculating the stndard deviation of 'Item_MRP' and 'Item_Outlet_Sales' \n",
    "\n",
    "std_dev_item_mrp = df['Item_MRP'].std()\n",
    "std_dev_item_outlet_sales = df['Item_Outlet_Sales'].std()\n",
    "\n",
    "print(f\"Standard Deviation of Item_MRP: {std_dev_item_mrp}\")\n",
    "print(f\"Standard Deviation of Item_Outlet_Sales: {std_dev_item_outlet_sales}\")\n"
   ]
  },
  {
   "cell_type": "code",
   "execution_count": 11,
   "metadata": {
    "colab": {
     "base_uri": "https://localhost:8080/"
    },
    "id": "kBE7INW8Q3kR",
    "outputId": "30da186a-2a17-451d-ed7e-fe0c87e3e1d6"
   },
   "outputs": [
    {
     "name": "stdout",
     "output_type": "stream",
     "text": [
      "Variance of Item_MRP: 3878.1839090977373\n",
      "Variance of Item_Outlet_Sales: 2912140.938499716\n"
     ]
    }
   ],
   "source": [
    "#Calculating the varianace of 'Item_MRP' and 'Item_Outlet_Sales' \n",
    "\n",
    "variance_item_mrp = df['Item_MRP'].var()\n",
    "variance_item_outlet_sales = df['Item_Outlet_Sales'].var()\n",
    "\n",
    "print(f\"Variance of Item_MRP: {variance_item_mrp}\")\n",
    "print(f\"Variance of Item_Outlet_Sales: {variance_item_outlet_sales}\")\n"
   ]
  },
  {
   "cell_type": "code",
   "execution_count": 12,
   "metadata": {
    "colab": {
     "base_uri": "https://localhost:8080/"
    },
    "id": "d1d8RZtZQ87f",
    "outputId": "14eeb7c2-d159-4662-af20-c3836cabd99a"
   },
   "outputs": [
    {
     "name": "stdout",
     "output_type": "stream",
     "text": [
      "IQR of Item_MRP: 91.8172\n",
      "IQR of Item_Outlet_Sales: 2267.049\n"
     ]
    }
   ],
   "source": [
    "#Calculating IQR of 'Item_MRP' and 'Item_Outlet_Sales' \n",
    "\n",
    "iqr_item_mrp = df['Item_MRP'].quantile(0.75) - df['Item_MRP'].quantile(0.25)\n",
    "iqr_item_outlet_sales = df['Item_Outlet_Sales'].quantile(0.75) - df['Item_Outlet_Sales'].quantile(0.25)\n",
    "\n",
    "print(f\"IQR of Item_MRP: {iqr_item_mrp}\")\n",
    "print(f\"IQR of Item_Outlet_Sales: {iqr_item_outlet_sales}\")\n",
    "\n"
   ]
  },
  {
   "cell_type": "code",
   "execution_count": 16,
   "metadata": {
    "id": "qvMh9iyCRLJg"
   },
   "outputs": [
    {
     "name": "stdout",
     "output_type": "stream",
     "text": [
      "Skewness of Item_Outlet_Sales: 1.1775306028542796\n",
      "Kurtosis (Pearson) of Item_Outlet_Sales: 1.6158766814287264\n",
      "Kurtosis (Fisher) of Item_Outlet_Sales: 1.6158766814287264\n"
     ]
    }
   ],
   "source": [
    "#Calculating Skewness and Kurtosis (Pearson and Fisher) of 'Item_Outlet_Sales'\n",
    "\n",
    "\n",
    "skewness_sales = df['Item_Outlet_Sales'].skew()\n",
    "kurtosis_pearson_sales = df['Item_Outlet_Sales'].kurt()\n",
    "kurtosis_fisher_sales = df['Item_Outlet_Sales'].kurtosis()\n",
    "\n",
    "print(f\"Skewness of Item_Outlet_Sales: {skewness_sales}\")\n",
    "print(f\"Kurtosis (Pearson) of Item_Outlet_Sales: {kurtosis_pearson_sales}\")\n",
    "print(f\"Kurtosis (Fisher) of Item_Outlet_Sales: {kurtosis_fisher_sales}\")\n",
    "\n"
   ]
  },
  {
   "cell_type": "code",
   "execution_count": null,
   "metadata": {
    "colab": {
     "base_uri": "https://localhost:8080/"
    },
    "id": "VTZODUeaRTwB",
    "outputId": "26e0b1ed-f43d-42dd-e599-51040b8dcc42"
   },
   "outputs": [],
   "source": []
  },
  {
   "cell_type": "code",
   "execution_count": null,
   "metadata": {
    "colab": {
     "base_uri": "https://localhost:8080/"
    },
    "id": "ZircMHvkRXwk",
    "outputId": "42c8be08-bc1c-47d6-a322-f077e47bcaf9"
   },
   "outputs": [],
   "source": []
  },
  {
   "cell_type": "code",
   "execution_count": null,
   "metadata": {
    "colab": {
     "base_uri": "https://localhost:8080/"
    },
    "id": "3xHbluChRaF2",
    "outputId": "015aa088-0d86-4abf-f12b-dca023efdf3f"
   },
   "outputs": [],
   "source": []
  },
  {
   "cell_type": "code",
   "execution_count": 28,
   "metadata": {
    "id": "t3bAb4LrRccX"
   },
   "outputs": [
    {
     "name": "stdout",
     "output_type": "stream",
     "text": [
      "      Item_MRP  Z_Score_Item_MRP  Item_Outlet_Sales  Z_Score_Item_Outlet_Sales\n",
      "0     249.8092          1.747351          3735.1380                   0.910548\n",
      "1      48.2692         -1.488936           443.4228                  -1.018381\n",
      "2     141.6180          0.010040          2097.2700                  -0.049235\n",
      "3     182.0950          0.660011           732.3800                  -0.849053\n",
      "4      53.8614         -1.399138           994.7052                  -0.695332\n",
      "...        ...               ...                ...                        ...\n",
      "8518  214.5218          1.180714          2778.3834                   0.349894\n",
      "8519  108.1570         -0.527270           549.2850                  -0.956346\n",
      "8520   85.1224         -0.897155          1193.1136                  -0.579066\n",
      "8521  103.1332         -0.607941          1845.5976                  -0.196713\n",
      "8522   75.4670         -1.052199           765.6700                  -0.829545\n",
      "\n",
      "[8523 rows x 4 columns]\n"
     ]
    }
   ],
   "source": [
    "##Calculate Z-Score of 'Item_MRP' and 'Item_Outlet_Sales' (1 mark)\n",
    "\n",
    "\n",
    "mean_item_mrp = df['Item_MRP'].mean()\n",
    "std_dev_item_mrp = df['Item_MRP'].std()\n",
    "\n",
    "mean_item_outlet_sales = df['Item_Outlet_Sales'].mean()\n",
    "std_dev_item_outlet_sales = df['Item_Outlet_Sales'].std()\n",
    "\n",
    "df['Z_Score_Item_MRP'] = (df['Item_MRP'] - mean_item_mrp) / std_dev_item_mrp\n",
    "df['Z_Score_Item_Outlet_Sales'] = (df['Item_Outlet_Sales'] - mean_item_outlet_sales) / std_dev_item_outlet_sales\n",
    "\n",
    "print(df[['Item_MRP', 'Z_Score_Item_MRP', 'Item_Outlet_Sales', 'Z_Score_Item_Outlet_Sales']])\n",
    "\n"
   ]
  },
  {
   "cell_type": "code",
   "execution_count": null,
   "metadata": {
    "colab": {
     "base_uri": "https://localhost:8080/",
     "height": 424
    },
    "id": "qGLEhBBQRuxi",
    "outputId": "59f48f48-40ef-4a6a-87f8-8854fc303532"
   },
   "outputs": [],
   "source": []
  },
  {
   "cell_type": "code",
   "execution_count": null,
   "metadata": {
    "colab": {
     "base_uri": "https://localhost:8080/"
    },
    "id": "-G7SYHWvRu_W",
    "outputId": "af69605f-87fc-4f9d-ab57-43efeca1c77d"
   },
   "outputs": [],
   "source": []
  },
  {
   "cell_type": "code",
   "execution_count": null,
   "metadata": {},
   "outputs": [],
   "source": []
  }
 ],
 "metadata": {
  "colab": {
   "collapsed_sections": [],
   "name": "Solution for Project 4.ipynb",
   "provenance": []
  },
  "kernelspec": {
   "display_name": "Python 3 (ipykernel)",
   "language": "python",
   "name": "python3"
  },
  "language_info": {
   "codemirror_mode": {
    "name": "ipython",
    "version": 3
   },
   "file_extension": ".py",
   "mimetype": "text/x-python",
   "name": "python",
   "nbconvert_exporter": "python",
   "pygments_lexer": "ipython3",
   "version": "3.11.4"
  }
 },
 "nbformat": 4,
 "nbformat_minor": 1
}
