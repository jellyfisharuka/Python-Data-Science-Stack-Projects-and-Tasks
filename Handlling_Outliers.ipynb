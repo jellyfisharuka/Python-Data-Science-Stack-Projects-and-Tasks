{
 "cells": [
  {
   "cell_type": "markdown",
   "id": "f47fb304",
   "metadata": {},
   "source": [
    "<h1 align='center'>  <font size = '6' color='red'> Handle Outliers <font> </h1>\n"
   ]
  },
  {
   "cell_type": "markdown",
   "id": "99b5305d",
   "metadata": {},
   "source": [
    "You will use New York city Airbnb dataset. The data is related to host and guest houses in New York city. You are required to handle outliers based on the price per night. Please, follow the instructions."
   ]
  },
  {
   "cell_type": "markdown",
   "id": "c21e4527",
   "metadata": {},
   "source": [
    "## Detecting Outlier"
   ]
  },
  {
   "cell_type": "code",
   "execution_count": 11,
   "id": "e90cb912",
   "metadata": {},
   "outputs": [],
   "source": [
    "\n",
    "import pandas as pd\n",
    "import seaborn as sns\n",
    "import matplotlib.pyplot as plt\n",
    "import numpy as np"
   ]
  },
  {
   "cell_type": "code",
   "execution_count": 12,
   "id": "8271dd91",
   "metadata": {},
   "outputs": [
    {
     "data": {
      "text/html": [
       "<div>\n",
       "<style scoped>\n",
       "    .dataframe tbody tr th:only-of-type {\n",
       "        vertical-align: middle;\n",
       "    }\n",
       "\n",
       "    .dataframe tbody tr th {\n",
       "        vertical-align: top;\n",
       "    }\n",
       "\n",
       "    .dataframe thead th {\n",
       "        text-align: right;\n",
       "    }\n",
       "</style>\n",
       "<table border=\"1\" class=\"dataframe\">\n",
       "  <thead>\n",
       "    <tr style=\"text-align: right;\">\n",
       "      <th></th>\n",
       "      <th>id</th>\n",
       "      <th>name</th>\n",
       "      <th>host_id</th>\n",
       "      <th>host_name</th>\n",
       "      <th>neighbourhood_group</th>\n",
       "      <th>neighbourhood</th>\n",
       "      <th>latitude</th>\n",
       "      <th>longitude</th>\n",
       "      <th>room_type</th>\n",
       "      <th>price</th>\n",
       "      <th>minimum_nights</th>\n",
       "      <th>number_of_reviews</th>\n",
       "      <th>last_review</th>\n",
       "      <th>reviews_per_month</th>\n",
       "      <th>calculated_host_listings_count</th>\n",
       "      <th>availability_365</th>\n",
       "    </tr>\n",
       "  </thead>\n",
       "  <tbody>\n",
       "    <tr>\n",
       "      <th>0</th>\n",
       "      <td>2539</td>\n",
       "      <td>Clean &amp; quiet apt home by the park</td>\n",
       "      <td>2787</td>\n",
       "      <td>John</td>\n",
       "      <td>Brooklyn</td>\n",
       "      <td>Kensington</td>\n",
       "      <td>40.64749</td>\n",
       "      <td>-73.97237</td>\n",
       "      <td>Private room</td>\n",
       "      <td>149</td>\n",
       "      <td>1</td>\n",
       "      <td>9</td>\n",
       "      <td>2018-10-19</td>\n",
       "      <td>0.21</td>\n",
       "      <td>6</td>\n",
       "      <td>365</td>\n",
       "    </tr>\n",
       "    <tr>\n",
       "      <th>1</th>\n",
       "      <td>2595</td>\n",
       "      <td>Skylit Midtown Castle</td>\n",
       "      <td>2845</td>\n",
       "      <td>Jennifer</td>\n",
       "      <td>Manhattan</td>\n",
       "      <td>Midtown</td>\n",
       "      <td>40.75362</td>\n",
       "      <td>-73.98377</td>\n",
       "      <td>Entire home/apt</td>\n",
       "      <td>225</td>\n",
       "      <td>1</td>\n",
       "      <td>45</td>\n",
       "      <td>2019-05-21</td>\n",
       "      <td>0.38</td>\n",
       "      <td>2</td>\n",
       "      <td>355</td>\n",
       "    </tr>\n",
       "    <tr>\n",
       "      <th>2</th>\n",
       "      <td>3647</td>\n",
       "      <td>THE VILLAGE OF HARLEM....NEW YORK !</td>\n",
       "      <td>4632</td>\n",
       "      <td>Elisabeth</td>\n",
       "      <td>Manhattan</td>\n",
       "      <td>Harlem</td>\n",
       "      <td>40.80902</td>\n",
       "      <td>-73.94190</td>\n",
       "      <td>Private room</td>\n",
       "      <td>150</td>\n",
       "      <td>3</td>\n",
       "      <td>0</td>\n",
       "      <td>NaN</td>\n",
       "      <td>NaN</td>\n",
       "      <td>1</td>\n",
       "      <td>365</td>\n",
       "    </tr>\n",
       "    <tr>\n",
       "      <th>3</th>\n",
       "      <td>3831</td>\n",
       "      <td>Cozy Entire Floor of Brownstone</td>\n",
       "      <td>4869</td>\n",
       "      <td>LisaRoxanne</td>\n",
       "      <td>Brooklyn</td>\n",
       "      <td>Clinton Hill</td>\n",
       "      <td>40.68514</td>\n",
       "      <td>-73.95976</td>\n",
       "      <td>Entire home/apt</td>\n",
       "      <td>89</td>\n",
       "      <td>1</td>\n",
       "      <td>270</td>\n",
       "      <td>2019-07-05</td>\n",
       "      <td>4.64</td>\n",
       "      <td>1</td>\n",
       "      <td>194</td>\n",
       "    </tr>\n",
       "    <tr>\n",
       "      <th>4</th>\n",
       "      <td>5022</td>\n",
       "      <td>Entire Apt: Spacious Studio/Loft by central park</td>\n",
       "      <td>7192</td>\n",
       "      <td>Laura</td>\n",
       "      <td>Manhattan</td>\n",
       "      <td>East Harlem</td>\n",
       "      <td>40.79851</td>\n",
       "      <td>-73.94399</td>\n",
       "      <td>Entire home/apt</td>\n",
       "      <td>80</td>\n",
       "      <td>10</td>\n",
       "      <td>9</td>\n",
       "      <td>2018-11-19</td>\n",
       "      <td>0.10</td>\n",
       "      <td>1</td>\n",
       "      <td>0</td>\n",
       "    </tr>\n",
       "  </tbody>\n",
       "</table>\n",
       "</div>"
      ],
      "text/plain": [
       "     id                                              name  host_id  \\\n",
       "0  2539                Clean & quiet apt home by the park     2787   \n",
       "1  2595                             Skylit Midtown Castle     2845   \n",
       "2  3647               THE VILLAGE OF HARLEM....NEW YORK !     4632   \n",
       "3  3831                   Cozy Entire Floor of Brownstone     4869   \n",
       "4  5022  Entire Apt: Spacious Studio/Loft by central park     7192   \n",
       "\n",
       "     host_name neighbourhood_group neighbourhood  latitude  longitude  \\\n",
       "0         John            Brooklyn    Kensington  40.64749  -73.97237   \n",
       "1     Jennifer           Manhattan       Midtown  40.75362  -73.98377   \n",
       "2    Elisabeth           Manhattan        Harlem  40.80902  -73.94190   \n",
       "3  LisaRoxanne            Brooklyn  Clinton Hill  40.68514  -73.95976   \n",
       "4        Laura           Manhattan   East Harlem  40.79851  -73.94399   \n",
       "\n",
       "         room_type  price  minimum_nights  number_of_reviews last_review  \\\n",
       "0     Private room    149               1                  9  2018-10-19   \n",
       "1  Entire home/apt    225               1                 45  2019-05-21   \n",
       "2     Private room    150               3                  0         NaN   \n",
       "3  Entire home/apt     89               1                270  2019-07-05   \n",
       "4  Entire home/apt     80              10                  9  2018-11-19   \n",
       "\n",
       "   reviews_per_month  calculated_host_listings_count  availability_365  \n",
       "0               0.21                               6               365  \n",
       "1               0.38                               2               355  \n",
       "2                NaN                               1               365  \n",
       "3               4.64                               1               194  \n",
       "4               0.10                               1                 0  "
      ]
     },
     "execution_count": 12,
     "metadata": {},
     "output_type": "execute_result"
    }
   ],
   "source": [
    "\n",
    "df = pd.read_csv(\"C:/Users/aruke/Downloads/AB_NYC_2019.csv\")\n",
    "\n",
    "#Show the the tabulated data\n",
    "df.head()\n"
   ]
  },
  {
   "cell_type": "code",
   "execution_count": 13,
   "id": "7b8b2cb6",
   "metadata": {},
   "outputs": [
    {
     "data": {
      "image/png": "[encoded data removed]",
      "text/plain": [
       "<Figure size 800x600 with 1 Axes>"
      ]
     },
     "metadata": {},
     "output_type": "display_data"
    }
   ],
   "source": [
    "#Draw the box plot of the price coloumn\n",
    "plt.figure(figsize=(8, 6))\n",
    "sns.boxplot(x = df['price']) \n",
    "plt.show() "
   ]
  },
  {
   "cell_type": "code",
   "execution_count": 14,
   "id": "e435ac99",
   "metadata": {},
   "outputs": [
    {
     "data": {
      "image/png": "[encoded data removed]",
      "text/plain": [
       "<Figure size 500x500 with 1 Axes>"
      ]
     },
     "metadata": {},
     "output_type": "display_data"
    }
   ],
   "source": [
    "#Draw the a Histrogram of the price coloumn with bins = 30. Use seaborn lib.\n",
    "sns.displot(df['price'], bins = 30) \n",
    "plt.show()"
   ]
  },
  {
   "cell_type": "markdown",
   "id": "ab551928",
   "metadata": {},
   "source": [
    "## Z-score"
   ]
  },
  {
   "cell_type": "code",
   "execution_count": 15,
   "id": "35556e83",
   "metadata": {},
   "outputs": [
    {
     "name": "stdout",
     "output_type": "stream",
     "text": [
      "Min: 0\n",
      "Q1: 69.0\n",
      "Median: 106.0\n",
      "Q3: 175.0\n",
      "Max: 10000\n"
     ]
    }
   ],
   "source": [
    "#Show the five number summary of your dataset\n",
    "minimum = np.min(df['price'])\n",
    "q1 = np.percentile(df['price'], 25)\n",
    "median = np.median(df['price'])\n",
    "q3 = np.percentile(df['price'], 75)\n",
    "maximum = np.max(df['price'])\n",
    "print(f\"Min: {minimum}\")\n",
    "print(f\"Q1: {q1}\")\n",
    "print(f\"Median: {median}\")\n",
    "print(f\"Q3: {q3}\")\n",
    "print(f\"Max: {maximum}\")"
   ]
  },
  {
   "cell_type": "code",
   "execution_count": 16,
   "id": "0c05dd6a",
   "metadata": {},
   "outputs": [
    {
     "data": {
      "text/plain": [
       "(48895, 16)"
      ]
     },
     "execution_count": 16,
     "metadata": {},
     "output_type": "execute_result"
    }
   ],
   "source": [
    "#What is the shape of your dataset?\n",
    "df.shape"
   ]
  },
  {
   "cell_type": "code",
   "execution_count": 17,
   "id": "52656805",
   "metadata": {},
   "outputs": [],
   "source": [
    "#import the required library to calculate the zscore and the library that is going to help you to get the absolute value\n",
    "from scipy.stats import zscore"
   ]
  },
  {
   "cell_type": "code",
   "execution_count": 39,
   "id": "e7a6b515",
   "metadata": {},
   "outputs": [
    {
     "name": "stdout",
     "output_type": "stream",
     "text": [
      "0        0.015493\n",
      "1        0.300974\n",
      "2        0.011329\n",
      "3        0.265335\n",
      "4        0.302811\n",
      "           ...   \n",
      "48890    0.344452\n",
      "48891    0.469373\n",
      "48892    0.157070\n",
      "48893    0.406912\n",
      "48894    0.261171\n",
      "Name: price, Length: 48895, dtype: float64\n"
     ]
    }
   ],
   "source": [
    "# get the absolute value of the zscore that is based on price  \n",
    "san = abs(zscore(df['price']))\n",
    "print(san)"
   ]
  },
  {
   "cell_type": "code",
   "execution_count": 19,
   "id": "b28dafb1",
   "metadata": {},
   "outputs": [
    {
     "name": "stdout",
     "output_type": "stream",
     "text": [
      "             id                                               name    host_id  \\\n",
      "496      174966              Luxury 2Bed/2.5Bath Central Park View     836168   \n",
      "762      273190          6 Bedroom Landmark West Village Townhouse     605463   \n",
      "946      363673                   Beautiful 3 bedroom in Manhattan     256239   \n",
      "1105     468613   $ (Phone number hidden by Airbnb) weeks - room f    2325861   \n",
      "1414     634353                Luxury 1Bed with Central Park Views     836168   \n",
      "...         ...                                                ...        ...   \n",
      "48301  36186719           Private Bedroom in the Heart of Chelsea!  268920555   \n",
      "48304  36189195      Next to Times Square/Javits/MSG! Amazing 1BR!  270214015   \n",
      "48305  36189257             2BR Near Museum Mile! Upper East Side!  272166348   \n",
      "48523  36308562  Tasteful & Trendy Brooklyn Brownstone, near Train  217732163   \n",
      "48535  36311055     Stunning & Stylish Brooklyn Luxury, near Train  245712163   \n",
      "\n",
      "           host_name neighbourhood_group       neighbourhood  latitude  \\\n",
      "496            Henry           Manhattan     Upper West Side  40.77350   \n",
      "762     West Village           Manhattan        West Village  40.73301   \n",
      "946           Tracey           Manhattan     Upper West Side  40.80142   \n",
      "1105         Cynthia           Manhattan     Lower East Side  40.72152   \n",
      "1414           Henry           Manhattan     Upper West Side  40.77428   \n",
      "...              ...                 ...                 ...       ...   \n",
      "48301  Terrence Jake           Manhattan             Chelsea  40.74531   \n",
      "48304        Rogelio           Manhattan      Hell's Kitchen  40.75533   \n",
      "48305    Mary Rotsen           Manhattan     Upper East Side  40.78132   \n",
      "48523          Sandy            Brooklyn  Bedford-Stuyvesant  40.68767   \n",
      "48535        Urvashi            Brooklyn  Bedford-Stuyvesant  40.68245   \n",
      "\n",
      "       longitude        room_type  price  minimum_nights  number_of_reviews  \\\n",
      "496    -73.98697  Entire home/apt   2000              30                 30   \n",
      "762    -74.00268  Entire home/apt   1300               5                 28   \n",
      "946    -73.96931     Private room   3000               7                  0   \n",
      "1105   -73.99279     Private room   1300               1                  0   \n",
      "1414   -73.98594  Entire home/apt   1000              30                 44   \n",
      "...          ...              ...    ...             ...                ...   \n",
      "48301  -73.99454     Private room    999              30                  0   \n",
      "48304  -73.99866  Entire home/apt   2999              30                  0   \n",
      "48305  -73.95262  Entire home/apt   1999              30                  0   \n",
      "48523  -73.95805  Entire home/apt   1369               1                  0   \n",
      "48535  -73.93417  Entire home/apt   1749               1                  0   \n",
      "\n",
      "      last_review  reviews_per_month  calculated_host_listings_count  \\\n",
      "496    2018-05-05               0.33                              11   \n",
      "762    2018-09-25               0.31                               4   \n",
      "946           NaN                NaN                               1   \n",
      "1105          NaN                NaN                               1   \n",
      "1414   2015-09-28               0.53                              11   \n",
      "...           ...                ...                             ...   \n",
      "48301         NaN                NaN                               1   \n",
      "48304         NaN                NaN                               1   \n",
      "48305         NaN                NaN                               1   \n",
      "48523         NaN                NaN                               1   \n",
      "48535         NaN                NaN                               1   \n",
      "\n",
      "       availability_365  \n",
      "496                   0  \n",
      "762                 297  \n",
      "946                 365  \n",
      "1105                  0  \n",
      "1414                364  \n",
      "...                 ...  \n",
      "48301               270  \n",
      "48304               222  \n",
      "48305               270  \n",
      "48523               349  \n",
      "48535               303  \n",
      "\n",
      "[388 rows x 16 columns]\n"
     ]
    }
   ],
   "source": [
    "#Get the outlier dataset when zscore is greater 3  \n",
    "from scipy.stats import zscore\n",
    "z = np.abs(zscore(df['price']))\n",
    "outlier = df [z>3]\n",
    "print(outlier)"
   ]
  },
  {
   "cell_type": "code",
   "execution_count": 20,
   "id": "3e9d53c3",
   "metadata": {},
   "outputs": [
    {
     "data": {
      "text/plain": [
       "(388, 16)"
      ]
     },
     "execution_count": 20,
     "metadata": {},
     "output_type": "execute_result"
    }
   ],
   "source": [
    "#Show the shapee of the outlier dataset\n",
    "outlier.shape"
   ]
  },
  {
   "cell_type": "code",
   "execution_count": 21,
   "id": "68d5cf70",
   "metadata": {},
   "outputs": [
    {
     "data": {
      "text/plain": [
       "<Axes: xlabel='price'>"
      ]
     },
     "execution_count": 21,
     "metadata": {},
     "output_type": "execute_result"
    },
    {
     "data": {
      "image/png": "[encoded data removed]",
      "text/plain": [
       "<Figure size 640x480 with 1 Axes>"
      ]
     },
     "metadata": {},
     "output_type": "display_data"
    }
   ],
   "source": [
    "#Drop outliers dataset from your original dataset and assign a new name for the clean dataset\n",
    "df2 = df.drop(outlier.index)\n",
    "df2.shape\n",
    "sns.boxplot(x = df2['price'])"
   ]
  },
  {
   "cell_type": "code",
   "execution_count": 22,
   "id": "e4d88cbb",
   "metadata": {},
   "outputs": [
    {
     "data": {
      "text/plain": [
       "(48507, 16)"
      ]
     },
     "execution_count": 22,
     "metadata": {},
     "output_type": "execute_result"
    }
   ],
   "source": [
    "#Show the shapee of the new dataset \n",
    "df2.shape"
   ]
  },
  {
   "cell_type": "code",
   "execution_count": 26,
   "id": "edac00c5",
   "metadata": {},
   "outputs": [
    {
     "data": {
      "text/plain": [
       "<Axes: xlabel='price'>"
      ]
     },
     "execution_count": 26,
     "metadata": {},
     "output_type": "execute_result"
    },
    {
     "data": {
      "image/png": "[encoded data removed]",
      "text/plain": [
       "<Figure size 640x480 with 1 Axes>"
      ]
     },
     "metadata": {},
     "output_type": "display_data"
    }
   ],
   "source": [
    "#Draw boxplot of the price in your new dataset using seaborn library\n",
    "sns.boxplot(x = df2['price'])"
   ]
  },
  {
   "cell_type": "markdown",
   "id": "eaac47cf",
   "metadata": {},
   "source": [
    "## IQR Rule"
   ]
  },
  {
   "cell_type": "code",
   "execution_count": 24,
   "id": "b032fcf7",
   "metadata": {},
   "outputs": [
    {
     "data": {
      "text/plain": [
       "69.0"
      ]
     },
     "execution_count": 24,
     "metadata": {},
     "output_type": "execute_result"
    }
   ],
   "source": [
    "#calculate Q1 \n",
    "Q1 = df['price'].quantile(0.25)\n",
    "Q1"
   ]
  },
  {
   "cell_type": "code",
   "execution_count": 25,
   "id": "51143046",
   "metadata": {},
   "outputs": [
    {
     "data": {
      "text/plain": [
       "175.0"
      ]
     },
     "execution_count": 25,
     "metadata": {},
     "output_type": "execute_result"
    }
   ],
   "source": [
    "#calculate Q3\n",
    "Q3 = df['price'].quantile(0.75)\n",
    "Q3"
   ]
  },
  {
   "cell_type": "code",
   "execution_count": 27,
   "id": "c82c595f",
   "metadata": {},
   "outputs": [
    {
     "name": "stdout",
     "output_type": "stream",
     "text": [
      "106.0 -90.0 228.0\n"
     ]
    }
   ],
   "source": [
    "#calculate IQR (use 1.5)\n",
    "IQR = Q3 -Q1\n",
    "n = 1.5\n",
    "\n",
    "lower_outlier = Q1-(n*IQR)\n",
    "\n",
    "high_outlier = Q1+(n*IQR)\n",
    "\n",
    "print(IQR, lower_outlier, high_outlier)"
   ]
  },
  {
   "cell_type": "code",
   "execution_count": 28,
   "id": "910b236e",
   "metadata": {},
   "outputs": [
    {
     "data": {
      "text/html": [
       "<div>\n",
       "<style scoped>\n",
       "    .dataframe tbody tr th:only-of-type {\n",
       "        vertical-align: middle;\n",
       "    }\n",
       "\n",
       "    .dataframe tbody tr th {\n",
       "        vertical-align: top;\n",
       "    }\n",
       "\n",
       "    .dataframe thead th {\n",
       "        text-align: right;\n",
       "    }\n",
       "</style>\n",
       "<table border=\"1\" class=\"dataframe\">\n",
       "  <thead>\n",
       "    <tr style=\"text-align: right;\">\n",
       "      <th></th>\n",
       "      <th>id</th>\n",
       "      <th>name</th>\n",
       "      <th>host_id</th>\n",
       "      <th>host_name</th>\n",
       "      <th>neighbourhood_group</th>\n",
       "      <th>neighbourhood</th>\n",
       "      <th>latitude</th>\n",
       "      <th>longitude</th>\n",
       "      <th>room_type</th>\n",
       "      <th>price</th>\n",
       "      <th>minimum_nights</th>\n",
       "      <th>number_of_reviews</th>\n",
       "      <th>last_review</th>\n",
       "      <th>reviews_per_month</th>\n",
       "      <th>calculated_host_listings_count</th>\n",
       "      <th>availability_365</th>\n",
       "    </tr>\n",
       "  </thead>\n",
       "  <tbody>\n",
       "  </tbody>\n",
       "</table>\n",
       "</div>"
      ],
      "text/plain": [
       "Empty DataFrame\n",
       "Columns: [id, name, host_id, host_name, neighbourhood_group, neighbourhood, latitude, longitude, room_type, price, minimum_nights, number_of_reviews, last_review, reviews_per_month, calculated_host_listings_count, availability_365]\n",
       "Index: []"
      ]
     },
     "execution_count": 28,
     "metadata": {},
     "output_type": "execute_result"
    }
   ],
   "source": [
    "# Get the values of your dataset that get prices lower than the value of the lower outlier\n",
    "below_lower = df[(df['price']<lower_outlier)]\n",
    "below_lower"
   ]
  },
  {
   "cell_type": "code",
   "execution_count": 29,
   "id": "1f372cfb",
   "metadata": {},
   "outputs": [
    {
     "data": {
      "text/html": [
       "<div>\n",
       "<style scoped>\n",
       "    .dataframe tbody tr th:only-of-type {\n",
       "        vertical-align: middle;\n",
       "    }\n",
       "\n",
       "    .dataframe tbody tr th {\n",
       "        vertical-align: top;\n",
       "    }\n",
       "\n",
       "    .dataframe thead th {\n",
       "        text-align: right;\n",
       "    }\n",
       "</style>\n",
       "<table border=\"1\" class=\"dataframe\">\n",
       "  <thead>\n",
       "    <tr style=\"text-align: right;\">\n",
       "      <th></th>\n",
       "      <th>id</th>\n",
       "      <th>name</th>\n",
       "      <th>host_id</th>\n",
       "      <th>host_name</th>\n",
       "      <th>neighbourhood_group</th>\n",
       "      <th>neighbourhood</th>\n",
       "      <th>latitude</th>\n",
       "      <th>longitude</th>\n",
       "      <th>room_type</th>\n",
       "      <th>price</th>\n",
       "      <th>minimum_nights</th>\n",
       "      <th>number_of_reviews</th>\n",
       "      <th>last_review</th>\n",
       "      <th>reviews_per_month</th>\n",
       "      <th>calculated_host_listings_count</th>\n",
       "      <th>availability_365</th>\n",
       "    </tr>\n",
       "  </thead>\n",
       "  <tbody>\n",
       "    <tr>\n",
       "      <th>20</th>\n",
       "      <td>7801</td>\n",
       "      <td>Sweet and Spacious Brooklyn Loft</td>\n",
       "      <td>21207</td>\n",
       "      <td>Chaya</td>\n",
       "      <td>Brooklyn</td>\n",
       "      <td>Williamsburg</td>\n",
       "      <td>40.71842</td>\n",
       "      <td>-73.95718</td>\n",
       "      <td>Entire home/apt</td>\n",
       "      <td>299</td>\n",
       "      <td>3</td>\n",
       "      <td>9</td>\n",
       "      <td>2011-12-28</td>\n",
       "      <td>0.07</td>\n",
       "      <td>1</td>\n",
       "      <td>0</td>\n",
       "    </tr>\n",
       "    <tr>\n",
       "      <th>61</th>\n",
       "      <td>15396</td>\n",
       "      <td>Sunny &amp; Spacious Chelsea Apartment</td>\n",
       "      <td>60278</td>\n",
       "      <td>Petra</td>\n",
       "      <td>Manhattan</td>\n",
       "      <td>Chelsea</td>\n",
       "      <td>40.74623</td>\n",
       "      <td>-73.99530</td>\n",
       "      <td>Entire home/apt</td>\n",
       "      <td>375</td>\n",
       "      <td>180</td>\n",
       "      <td>5</td>\n",
       "      <td>2018-11-03</td>\n",
       "      <td>0.12</td>\n",
       "      <td>1</td>\n",
       "      <td>180</td>\n",
       "    </tr>\n",
       "    <tr>\n",
       "      <th>62</th>\n",
       "      <td>15711</td>\n",
       "      <td>2 bedroom - Upper East Side-great for kids</td>\n",
       "      <td>61491</td>\n",
       "      <td>D</td>\n",
       "      <td>Manhattan</td>\n",
       "      <td>Upper East Side</td>\n",
       "      <td>40.77065</td>\n",
       "      <td>-73.95269</td>\n",
       "      <td>Entire home/apt</td>\n",
       "      <td>250</td>\n",
       "      <td>2</td>\n",
       "      <td>66</td>\n",
       "      <td>2019-03-30</td>\n",
       "      <td>0.57</td>\n",
       "      <td>2</td>\n",
       "      <td>231</td>\n",
       "    </tr>\n",
       "    <tr>\n",
       "      <th>68</th>\n",
       "      <td>16595</td>\n",
       "      <td>*HAVEN LOFT - Entire Floor - Six Windows - Bri...</td>\n",
       "      <td>64522</td>\n",
       "      <td>Daniel</td>\n",
       "      <td>Brooklyn</td>\n",
       "      <td>Williamsburg</td>\n",
       "      <td>40.70933</td>\n",
       "      <td>-73.96792</td>\n",
       "      <td>Entire home/apt</td>\n",
       "      <td>275</td>\n",
       "      <td>1</td>\n",
       "      <td>148</td>\n",
       "      <td>2019-06-23</td>\n",
       "      <td>1.40</td>\n",
       "      <td>1</td>\n",
       "      <td>362</td>\n",
       "    </tr>\n",
       "    <tr>\n",
       "      <th>71</th>\n",
       "      <td>17037</td>\n",
       "      <td>Lovely EV Artist's Home</td>\n",
       "      <td>66035</td>\n",
       "      <td>Anna</td>\n",
       "      <td>Manhattan</td>\n",
       "      <td>East Village</td>\n",
       "      <td>40.72162</td>\n",
       "      <td>-73.98008</td>\n",
       "      <td>Entire home/apt</td>\n",
       "      <td>230</td>\n",
       "      <td>9</td>\n",
       "      <td>49</td>\n",
       "      <td>2018-05-14</td>\n",
       "      <td>0.43</td>\n",
       "      <td>1</td>\n",
       "      <td>116</td>\n",
       "    </tr>\n",
       "    <tr>\n",
       "      <th>...</th>\n",
       "      <td>...</td>\n",
       "      <td>...</td>\n",
       "      <td>...</td>\n",
       "      <td>...</td>\n",
       "      <td>...</td>\n",
       "      <td>...</td>\n",
       "      <td>...</td>\n",
       "      <td>...</td>\n",
       "      <td>...</td>\n",
       "      <td>...</td>\n",
       "      <td>...</td>\n",
       "      <td>...</td>\n",
       "      <td>...</td>\n",
       "      <td>...</td>\n",
       "      <td>...</td>\n",
       "      <td>...</td>\n",
       "    </tr>\n",
       "    <tr>\n",
       "      <th>48833</th>\n",
       "      <td>36450896</td>\n",
       "      <td>Brand New 3-Bed Apt in the Best Location of FiDi</td>\n",
       "      <td>29741813</td>\n",
       "      <td>Yue</td>\n",
       "      <td>Manhattan</td>\n",
       "      <td>Financial District</td>\n",
       "      <td>40.70605</td>\n",
       "      <td>-74.01042</td>\n",
       "      <td>Entire home/apt</td>\n",
       "      <td>475</td>\n",
       "      <td>2</td>\n",
       "      <td>0</td>\n",
       "      <td>NaN</td>\n",
       "      <td>NaN</td>\n",
       "      <td>1</td>\n",
       "      <td>64</td>\n",
       "    </tr>\n",
       "    <tr>\n",
       "      <th>48839</th>\n",
       "      <td>36452721</td>\n",
       "      <td>Massage Spa. Stay overnight. Authors Artist dr...</td>\n",
       "      <td>274079964</td>\n",
       "      <td>Richard</td>\n",
       "      <td>Brooklyn</td>\n",
       "      <td>Sheepshead Bay</td>\n",
       "      <td>40.59866</td>\n",
       "      <td>-73.95661</td>\n",
       "      <td>Private room</td>\n",
       "      <td>800</td>\n",
       "      <td>1</td>\n",
       "      <td>0</td>\n",
       "      <td>NaN</td>\n",
       "      <td>NaN</td>\n",
       "      <td>1</td>\n",
       "      <td>23</td>\n",
       "    </tr>\n",
       "    <tr>\n",
       "      <th>48842</th>\n",
       "      <td>36453160</td>\n",
       "      <td>LUXURY MANHATTAN PENTHOUSE+HUDSON RIVER+EMPIRE...</td>\n",
       "      <td>224171371</td>\n",
       "      <td>LuxuryApartmentsByAmber</td>\n",
       "      <td>Manhattan</td>\n",
       "      <td>Chelsea</td>\n",
       "      <td>40.75204</td>\n",
       "      <td>-74.00292</td>\n",
       "      <td>Entire home/apt</td>\n",
       "      <td>350</td>\n",
       "      <td>1</td>\n",
       "      <td>0</td>\n",
       "      <td>NaN</td>\n",
       "      <td>NaN</td>\n",
       "      <td>1</td>\n",
       "      <td>9</td>\n",
       "    </tr>\n",
       "    <tr>\n",
       "      <th>48856</th>\n",
       "      <td>36457700</td>\n",
       "      <td>Large 3 bed, 2 bath , garden , bbq , all you need</td>\n",
       "      <td>66993395</td>\n",
       "      <td>Thomas</td>\n",
       "      <td>Brooklyn</td>\n",
       "      <td>Bedford-Stuyvesant</td>\n",
       "      <td>40.68886</td>\n",
       "      <td>-73.92879</td>\n",
       "      <td>Entire home/apt</td>\n",
       "      <td>345</td>\n",
       "      <td>4</td>\n",
       "      <td>0</td>\n",
       "      <td>NaN</td>\n",
       "      <td>NaN</td>\n",
       "      <td>3</td>\n",
       "      <td>354</td>\n",
       "    </tr>\n",
       "    <tr>\n",
       "      <th>48872</th>\n",
       "      <td>36476675</td>\n",
       "      <td>Nycity-MyHome</td>\n",
       "      <td>8636072</td>\n",
       "      <td>Ben</td>\n",
       "      <td>Manhattan</td>\n",
       "      <td>Hell's Kitchen</td>\n",
       "      <td>40.76236</td>\n",
       "      <td>-73.99255</td>\n",
       "      <td>Entire home/apt</td>\n",
       "      <td>260</td>\n",
       "      <td>3</td>\n",
       "      <td>0</td>\n",
       "      <td>NaN</td>\n",
       "      <td>NaN</td>\n",
       "      <td>1</td>\n",
       "      <td>9</td>\n",
       "    </tr>\n",
       "  </tbody>\n",
       "</table>\n",
       "<p>7043 rows × 16 columns</p>\n",
       "</div>"
      ],
      "text/plain": [
       "             id                                               name    host_id  \\\n",
       "20         7801                   Sweet and Spacious Brooklyn Loft      21207   \n",
       "61        15396                 Sunny & Spacious Chelsea Apartment      60278   \n",
       "62        15711         2 bedroom - Upper East Side-great for kids      61491   \n",
       "68        16595  *HAVEN LOFT - Entire Floor - Six Windows - Bri...      64522   \n",
       "71        17037                            Lovely EV Artist's Home      66035   \n",
       "...         ...                                                ...        ...   \n",
       "48833  36450896   Brand New 3-Bed Apt in the Best Location of FiDi   29741813   \n",
       "48839  36452721  Massage Spa. Stay overnight. Authors Artist dr...  274079964   \n",
       "48842  36453160  LUXURY MANHATTAN PENTHOUSE+HUDSON RIVER+EMPIRE...  224171371   \n",
       "48856  36457700  Large 3 bed, 2 bath , garden , bbq , all you need   66993395   \n",
       "48872  36476675                                      Nycity-MyHome    8636072   \n",
       "\n",
       "                     host_name neighbourhood_group       neighbourhood  \\\n",
       "20                       Chaya            Brooklyn        Williamsburg   \n",
       "61                       Petra           Manhattan             Chelsea   \n",
       "62                           D           Manhattan     Upper East Side   \n",
       "68                      Daniel            Brooklyn        Williamsburg   \n",
       "71                        Anna           Manhattan        East Village   \n",
       "...                        ...                 ...                 ...   \n",
       "48833                      Yue           Manhattan  Financial District   \n",
       "48839                  Richard            Brooklyn      Sheepshead Bay   \n",
       "48842  LuxuryApartmentsByAmber           Manhattan             Chelsea   \n",
       "48856                   Thomas            Brooklyn  Bedford-Stuyvesant   \n",
       "48872                      Ben           Manhattan      Hell's Kitchen   \n",
       "\n",
       "       latitude  longitude        room_type  price  minimum_nights  \\\n",
       "20     40.71842  -73.95718  Entire home/apt    299               3   \n",
       "61     40.74623  -73.99530  Entire home/apt    375             180   \n",
       "62     40.77065  -73.95269  Entire home/apt    250               2   \n",
       "68     40.70933  -73.96792  Entire home/apt    275               1   \n",
       "71     40.72162  -73.98008  Entire home/apt    230               9   \n",
       "...         ...        ...              ...    ...             ...   \n",
       "48833  40.70605  -74.01042  Entire home/apt    475               2   \n",
       "48839  40.59866  -73.95661     Private room    800               1   \n",
       "48842  40.75204  -74.00292  Entire home/apt    350               1   \n",
       "48856  40.68886  -73.92879  Entire home/apt    345               4   \n",
       "48872  40.76236  -73.99255  Entire home/apt    260               3   \n",
       "\n",
       "       number_of_reviews last_review  reviews_per_month  \\\n",
       "20                     9  2011-12-28               0.07   \n",
       "61                     5  2018-11-03               0.12   \n",
       "62                    66  2019-03-30               0.57   \n",
       "68                   148  2019-06-23               1.40   \n",
       "71                    49  2018-05-14               0.43   \n",
       "...                  ...         ...                ...   \n",
       "48833                  0         NaN                NaN   \n",
       "48839                  0         NaN                NaN   \n",
       "48842                  0         NaN                NaN   \n",
       "48856                  0         NaN                NaN   \n",
       "48872                  0         NaN                NaN   \n",
       "\n",
       "       calculated_host_listings_count  availability_365  \n",
       "20                                  1                 0  \n",
       "61                                  1               180  \n",
       "62                                  2               231  \n",
       "68                                  1               362  \n",
       "71                                  1               116  \n",
       "...                               ...               ...  \n",
       "48833                               1                64  \n",
       "48839                               1                23  \n",
       "48842                               1                 9  \n",
       "48856                               3               354  \n",
       "48872                               1                 9  \n",
       "\n",
       "[7043 rows x 16 columns]"
      ]
     },
     "execution_count": 29,
     "metadata": {},
     "output_type": "execute_result"
    }
   ],
   "source": [
    "# Get the values of your dataset that get prices higher than the value of the high outlier\n",
    "above_high = df[(df['price']> high_outlier)]\n",
    "above_high"
   ]
  },
  {
   "cell_type": "code",
   "execution_count": 30,
   "id": "82935add",
   "metadata": {},
   "outputs": [],
   "source": [
    "#Get the outliers dataset. Outliers are located outside the range of IQR\n",
    "outlier_df = df[(df['price']< lower_outlier) | (df['price']> high_outlier)]"
   ]
  },
  {
   "cell_type": "code",
   "execution_count": 31,
   "id": "a70d186e",
   "metadata": {},
   "outputs": [
    {
     "data": {
      "text/plain": [
       "(7043, 16)"
      ]
     },
     "execution_count": 31,
     "metadata": {},
     "output_type": "execute_result"
    }
   ],
   "source": [
    "# What is the shape of outliers dataset?\n",
    "outlier_df.shape"
   ]
  },
  {
   "cell_type": "code",
   "execution_count": 32,
   "id": "6deafa94",
   "metadata": {},
   "outputs": [
    {
     "name": "stdout",
     "output_type": "stream",
     "text": [
      "7043\n"
     ]
    }
   ],
   "source": [
    "# Exclude outliers by extracting the values inside the IQR range from the original dataset\n",
    "df3 = df[((df['price']> lower_outlier)& (df['price']< high_outlier))]\n",
    "print(len(outlier_df))"
   ]
  },
  {
   "cell_type": "code",
   "execution_count": 33,
   "id": "0a6e7585",
   "metadata": {},
   "outputs": [
    {
     "name": "stdout",
     "output_type": "stream",
     "text": [
      "(48895, 16)\n",
      "(41829, 16)\n"
     ]
    }
   ],
   "source": [
    "#What is the shape of the dataset now? Compare it with the previous ones.\n",
    "print(df.shape)\n",
    "print(df3.shape)"
   ]
  },
  {
   "cell_type": "code",
   "execution_count": 51,
   "id": "c6cf3a72",
   "metadata": {},
   "outputs": [
    {
     "data": {
      "text/plain": [
       "<Axes: xlabel='price'>"
      ]
     },
     "execution_count": 51,
     "metadata": {},
     "output_type": "execute_result"
    },
    {
     "data": {
      "image/png": "[encoded data removed]",
      "text/plain": [
       "<Figure size 640x480 with 1 Axes>"
      ]
     },
     "metadata": {},
     "output_type": "display_data"
    }
   ],
   "source": [
    "#Let us see how the boxplot look like with this dataset\n",
    "sns.boxplot(x = df3['price'])"
   ]
  },
  {
   "cell_type": "code",
   "execution_count": 34,
   "id": "d398447a",
   "metadata": {},
   "outputs": [
    {
     "name": "stdout",
     "output_type": "stream",
     "text": [
      "             id                                               name   host_id  \\\n",
      "0          2539                 Clean & quiet apt home by the park      2787   \n",
      "1          2595                              Skylit Midtown Castle      2845   \n",
      "2          3647                THE VILLAGE OF HARLEM....NEW YORK !      4632   \n",
      "3          3831                    Cozy Entire Floor of Brownstone      4869   \n",
      "4          5022   Entire Apt: Spacious Studio/Loft by central park      7192   \n",
      "...         ...                                                ...       ...   \n",
      "48890  36484665    Charming one bedroom - newly renovated rowhouse   8232441   \n",
      "48891  36485057      Affordable room in Bushwick/East Williamsburg   6570630   \n",
      "48892  36485431            Sunny Studio at Historical Neighborhood  23492952   \n",
      "48893  36485609               43rd St. Time Square-cozy single bed  30985759   \n",
      "48894  36487245  Trendy duplex in the very heart of Hell's Kitchen  68119814   \n",
      "\n",
      "           host_name neighbourhood_group       neighbourhood  latitude  \\\n",
      "0               John            Brooklyn          Kensington  40.64749   \n",
      "1           Jennifer           Manhattan             Midtown  40.75362   \n",
      "2          Elisabeth           Manhattan              Harlem  40.80902   \n",
      "3        LisaRoxanne            Brooklyn        Clinton Hill  40.68514   \n",
      "4              Laura           Manhattan         East Harlem  40.79851   \n",
      "...              ...                 ...                 ...       ...   \n",
      "48890        Sabrina            Brooklyn  Bedford-Stuyvesant  40.67853   \n",
      "48891        Marisol            Brooklyn            Bushwick  40.70184   \n",
      "48892  Ilgar & Aysel           Manhattan              Harlem  40.81475   \n",
      "48893            Taz           Manhattan      Hell's Kitchen  40.75751   \n",
      "48894     Christophe           Manhattan      Hell's Kitchen  40.76404   \n",
      "\n",
      "       longitude        room_type  price  minimum_nights  number_of_reviews  \\\n",
      "0      -73.97237     Private room    149               1                  9   \n",
      "1      -73.98377  Entire home/apt    225               1                 45   \n",
      "2      -73.94190     Private room    150               3                  0   \n",
      "3      -73.95976  Entire home/apt     89               1                270   \n",
      "4      -73.94399  Entire home/apt     80              10                  9   \n",
      "...          ...              ...    ...             ...                ...   \n",
      "48890  -73.94995     Private room     70               2                  0   \n",
      "48891  -73.93317     Private room     40               4                  0   \n",
      "48892  -73.94867  Entire home/apt    115              10                  0   \n",
      "48893  -73.99112      Shared room     55               1                  0   \n",
      "48894  -73.98933     Private room     90               7                  0   \n",
      "\n",
      "      last_review  reviews_per_month  calculated_host_listings_count  \\\n",
      "0      2018-10-19               0.21                               6   \n",
      "1      2019-05-21               0.38                               2   \n",
      "2             NaN                NaN                               1   \n",
      "3      2019-07-05               4.64                               1   \n",
      "4      2018-11-19               0.10                               1   \n",
      "...           ...                ...                             ...   \n",
      "48890         NaN                NaN                               2   \n",
      "48891         NaN                NaN                               2   \n",
      "48892         NaN                NaN                               1   \n",
      "48893         NaN                NaN                               6   \n",
      "48894         NaN                NaN                               1   \n",
      "\n",
      "       availability_365  \n",
      "0                   365  \n",
      "1                   355  \n",
      "2                   365  \n",
      "3                   194  \n",
      "4                     0  \n",
      "...                 ...  \n",
      "48890                 9  \n",
      "48891                36  \n",
      "48892                27  \n",
      "48893                 2  \n",
      "48894                23  \n",
      "\n",
      "[41852 rows x 16 columns]\n"
     ]
    }
   ],
   "source": [
    "# Exclude outliers by using the complement of the outlier dataset in our data. Don't Forget to assign anew new for dataset \n",
    "df4 = df[~((df['price']< lower_outlier) | (df['price']> high_outlier))]\n",
    "print(df4)"
   ]
  },
  {
   "cell_type": "code",
   "execution_count": 35,
   "id": "dfb66371",
   "metadata": {},
   "outputs": [
    {
     "name": "stdout",
     "output_type": "stream",
     "text": [
      "(41852, 16)\n",
      "(41829, 16)\n",
      "(48895, 16)\n"
     ]
    }
   ],
   "source": [
    "#What is the shape of the now dataset? Compare it with the previous and orignial ones.\n",
    "print(df4.shape)\n",
    "print(df3.shape)\n",
    "print(df.shape)"
   ]
  },
  {
   "cell_type": "code",
   "execution_count": 36,
   "id": "81c7399b",
   "metadata": {},
   "outputs": [],
   "source": [
    "# Exclude outliers by droping the outlier dataset from the original data. Don't Forget to assign anew new for dataset \n",
    "df5 = df.drop(outlier_df.index)\n"
   ]
  },
  {
   "cell_type": "code",
   "execution_count": 37,
   "id": "0112f1ef",
   "metadata": {},
   "outputs": [
    {
     "name": "stdout",
     "output_type": "stream",
     "text": [
      "(41852, 16)\n",
      "(41852, 16)\n",
      "(41829, 16)\n",
      "(48895, 16)\n"
     ]
    }
   ],
   "source": [
    "#What is the shape of the new dataset? Compare it with the previous ones.\n",
    "print(df5.shape)\n",
    "print(df4.shape)\n",
    "print(df3.shape)\n",
    "print(df.shape)\n"
   ]
  },
  {
   "cell_type": "code",
   "execution_count": null,
   "id": "eb70f07b",
   "metadata": {},
   "outputs": [],
   "source": []
  }
 ],
 "metadata": {
  "kernelspec": {
   "display_name": "Python 3 (ipykernel)",
   "language": "python",
   "name": "python3"
  },
  "language_info": {
   "codemirror_mode": {
    "name": "ipython",
    "version": 3
   },
   "file_extension": ".py",
   "mimetype": "text/x-python",
   "name": "python",
   "nbconvert_exporter": "python",
   "pygments_lexer": "ipython3",
   "version": "3.11.4"
  }
 },
 "nbformat": 4,
 "nbformat_minor": 5
}
